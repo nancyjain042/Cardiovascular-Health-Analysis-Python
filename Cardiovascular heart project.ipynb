{
 "cells": [
  {
   "cell_type": "code",
   "execution_count": 1,
   "id": "19c2ad1f",
   "metadata": {},
   "outputs": [],
   "source": [
    "import numpy as np\n",
    "import pandas as pd\n",
    "import matplotlib.pyplot as plt\n",
    "import seaborn as sns"
   ]
  },
  {
   "cell_type": "code",
   "execution_count": 2,
   "id": "5200ac0d",
   "metadata": {},
   "outputs": [],
   "source": [
    "df=pd.read_csv(\"C:/Users/Shubham Jain/Downloads/CVD_cleaned.csv\") "
   ]
  },
  {
   "cell_type": "code",
   "execution_count": 3,
   "id": "173e19e1",
   "metadata": {},
   "outputs": [
    {
     "data": {
      "text/plain": [
       "(308859, 22)"
      ]
     },
     "execution_count": 3,
     "metadata": {},
     "output_type": "execute_result"
    }
   ],
   "source": [
    "df.shape"
   ]
  },
  {
   "cell_type": "code",
   "execution_count": 4,
   "id": "f8e2aad8",
   "metadata": {},
   "outputs": [
    {
     "data": {
      "text/html": [
       "<div>\n",
       "<style scoped>\n",
       "    .dataframe tbody tr th:only-of-type {\n",
       "        vertical-align: middle;\n",
       "    }\n",
       "\n",
       "    .dataframe tbody tr th {\n",
       "        vertical-align: top;\n",
       "    }\n",
       "\n",
       "    .dataframe thead th {\n",
       "        text-align: right;\n",
       "    }\n",
       "</style>\n",
       "<table border=\"1\" class=\"dataframe\">\n",
       "  <thead>\n",
       "    <tr style=\"text-align: right;\">\n",
       "      <th></th>\n",
       "      <th>SurveyID</th>\n",
       "      <th>Date</th>\n",
       "      <th>General_Health</th>\n",
       "      <th>Checkup</th>\n",
       "      <th>Exercise</th>\n",
       "      <th>Heart_Disease</th>\n",
       "      <th>Skin_Cancer</th>\n",
       "      <th>Other_Cancer</th>\n",
       "      <th>Depression</th>\n",
       "      <th>Diabetes</th>\n",
       "      <th>...</th>\n",
       "      <th>Age_Category</th>\n",
       "      <th>Height_(cm)</th>\n",
       "      <th>Weight_(kg)</th>\n",
       "      <th>BMI</th>\n",
       "      <th>Smoking_History</th>\n",
       "      <th>Alcohol_Consumption</th>\n",
       "      <th>Fruit_Consumption</th>\n",
       "      <th>Green_Vegetables_Consumption</th>\n",
       "      <th>FriedPotato_Consumption</th>\n",
       "      <th>Number_of_Children</th>\n",
       "    </tr>\n",
       "  </thead>\n",
       "  <tbody>\n",
       "    <tr>\n",
       "      <th>0</th>\n",
       "      <td>32156.0</td>\n",
       "      <td>3/25/2022</td>\n",
       "      <td>Poor</td>\n",
       "      <td>Within the past 2 years</td>\n",
       "      <td>No</td>\n",
       "      <td>No</td>\n",
       "      <td>No</td>\n",
       "      <td>No</td>\n",
       "      <td>No</td>\n",
       "      <td>No</td>\n",
       "      <td>...</td>\n",
       "      <td>70-74</td>\n",
       "      <td>150.0</td>\n",
       "      <td>32.66</td>\n",
       "      <td>14.54</td>\n",
       "      <td>Yes</td>\n",
       "      <td>0.0</td>\n",
       "      <td>30.0</td>\n",
       "      <td>16.0</td>\n",
       "      <td>12.0</td>\n",
       "      <td>1.0</td>\n",
       "    </tr>\n",
       "    <tr>\n",
       "      <th>1</th>\n",
       "      <td>32157.0</td>\n",
       "      <td>2/15/2022</td>\n",
       "      <td>Very Good</td>\n",
       "      <td>Within the past year</td>\n",
       "      <td>No</td>\n",
       "      <td>Yes</td>\n",
       "      <td>No</td>\n",
       "      <td>No</td>\n",
       "      <td>No</td>\n",
       "      <td>Yes</td>\n",
       "      <td>...</td>\n",
       "      <td>70-74</td>\n",
       "      <td>165.0</td>\n",
       "      <td>77.11</td>\n",
       "      <td>28.29</td>\n",
       "      <td>No</td>\n",
       "      <td>0.0</td>\n",
       "      <td>30.0</td>\n",
       "      <td>0.0</td>\n",
       "      <td>4.0</td>\n",
       "      <td>3.0</td>\n",
       "    </tr>\n",
       "    <tr>\n",
       "      <th>2</th>\n",
       "      <td>32158.0</td>\n",
       "      <td>10/19/2022</td>\n",
       "      <td>Very GOod</td>\n",
       "      <td>Within the past year</td>\n",
       "      <td>Yes</td>\n",
       "      <td>No</td>\n",
       "      <td>No</td>\n",
       "      <td>No</td>\n",
       "      <td>No</td>\n",
       "      <td>Yes</td>\n",
       "      <td>...</td>\n",
       "      <td>60-64</td>\n",
       "      <td>163.0</td>\n",
       "      <td>88.45</td>\n",
       "      <td>33.47</td>\n",
       "      <td>No</td>\n",
       "      <td>4.0</td>\n",
       "      <td>12.0</td>\n",
       "      <td>3.0</td>\n",
       "      <td>16.0</td>\n",
       "      <td>4.0</td>\n",
       "    </tr>\n",
       "    <tr>\n",
       "      <th>3</th>\n",
       "      <td>32159.0</td>\n",
       "      <td>8/21/2022</td>\n",
       "      <td>Poor</td>\n",
       "      <td>Within the past year</td>\n",
       "      <td>Yes</td>\n",
       "      <td>Yes</td>\n",
       "      <td>No</td>\n",
       "      <td>No</td>\n",
       "      <td>No</td>\n",
       "      <td>Yes</td>\n",
       "      <td>...</td>\n",
       "      <td>75-79</td>\n",
       "      <td>180.0</td>\n",
       "      <td>93.44</td>\n",
       "      <td>28.73</td>\n",
       "      <td>No</td>\n",
       "      <td>0.0</td>\n",
       "      <td>30.0</td>\n",
       "      <td>30.0</td>\n",
       "      <td>8.0</td>\n",
       "      <td>4.0</td>\n",
       "    </tr>\n",
       "    <tr>\n",
       "      <th>4</th>\n",
       "      <td>32160.0</td>\n",
       "      <td>10/3/2022</td>\n",
       "      <td>Goo      d</td>\n",
       "      <td>Within the past year</td>\n",
       "      <td>No</td>\n",
       "      <td>No</td>\n",
       "      <td>No</td>\n",
       "      <td>No</td>\n",
       "      <td>No</td>\n",
       "      <td>No</td>\n",
       "      <td>...</td>\n",
       "      <td>80+</td>\n",
       "      <td>NaN</td>\n",
       "      <td>88.45</td>\n",
       "      <td>24.37</td>\n",
       "      <td>Yes</td>\n",
       "      <td>0.0</td>\n",
       "      <td>8.0</td>\n",
       "      <td>4.0</td>\n",
       "      <td>0.0</td>\n",
       "      <td>1.0</td>\n",
       "    </tr>\n",
       "  </tbody>\n",
       "</table>\n",
       "<p>5 rows × 22 columns</p>\n",
       "</div>"
      ],
      "text/plain": [
       "   SurveyID        Date General_Health                  Checkup Exercise  \\\n",
       "0   32156.0   3/25/2022           Poor  Within the past 2 years       No   \n",
       "1   32157.0   2/15/2022      Very Good     Within the past year       No   \n",
       "2   32158.0  10/19/2022      Very GOod     Within the past year      Yes   \n",
       "3   32159.0   8/21/2022           Poor     Within the past year      Yes   \n",
       "4   32160.0   10/3/2022     Goo      d     Within the past year       No   \n",
       "\n",
       "  Heart_Disease Skin_Cancer Other_Cancer Depression Diabetes  ...  \\\n",
       "0            No          No           No         No       No  ...   \n",
       "1           Yes          No           No         No      Yes  ...   \n",
       "2            No          No           No         No      Yes  ...   \n",
       "3           Yes          No           No         No      Yes  ...   \n",
       "4            No          No           No         No       No  ...   \n",
       "\n",
       "  Age_Category Height_(cm) Weight_(kg)    BMI  Smoking_History  \\\n",
       "0        70-74       150.0       32.66  14.54              Yes   \n",
       "1        70-74       165.0       77.11  28.29               No   \n",
       "2        60-64       163.0       88.45  33.47               No   \n",
       "3        75-79       180.0       93.44  28.73               No   \n",
       "4          80+         NaN       88.45  24.37              Yes   \n",
       "\n",
       "   Alcohol_Consumption Fruit_Consumption  Green_Vegetables_Consumption  \\\n",
       "0                  0.0              30.0                          16.0   \n",
       "1                  0.0              30.0                           0.0   \n",
       "2                  4.0              12.0                           3.0   \n",
       "3                  0.0              30.0                          30.0   \n",
       "4                  0.0               8.0                           4.0   \n",
       "\n",
       "   FriedPotato_Consumption  Number_of_Children  \n",
       "0                     12.0                 1.0  \n",
       "1                      4.0                 3.0  \n",
       "2                     16.0                 4.0  \n",
       "3                      8.0                 4.0  \n",
       "4                      0.0                 1.0  \n",
       "\n",
       "[5 rows x 22 columns]"
      ]
     },
     "execution_count": 4,
     "metadata": {},
     "output_type": "execute_result"
    }
   ],
   "source": [
    "df.head()"
   ]
  },
  {
   "cell_type": "code",
   "execution_count": 5,
   "id": "9e1f607a",
   "metadata": {},
   "outputs": [],
   "source": [
    "pd.set_option(\"display.max_columns\",None)"
   ]
  },
  {
   "cell_type": "code",
   "execution_count": 6,
   "id": "1224db2d",
   "metadata": {},
   "outputs": [
    {
     "data": {
      "text/html": [
       "<div>\n",
       "<style scoped>\n",
       "    .dataframe tbody tr th:only-of-type {\n",
       "        vertical-align: middle;\n",
       "    }\n",
       "\n",
       "    .dataframe tbody tr th {\n",
       "        vertical-align: top;\n",
       "    }\n",
       "\n",
       "    .dataframe thead th {\n",
       "        text-align: right;\n",
       "    }\n",
       "</style>\n",
       "<table border=\"1\" class=\"dataframe\">\n",
       "  <thead>\n",
       "    <tr style=\"text-align: right;\">\n",
       "      <th></th>\n",
       "      <th>SurveyID</th>\n",
       "      <th>Date</th>\n",
       "      <th>General_Health</th>\n",
       "      <th>Checkup</th>\n",
       "      <th>Exercise</th>\n",
       "      <th>Heart_Disease</th>\n",
       "      <th>Skin_Cancer</th>\n",
       "      <th>Other_Cancer</th>\n",
       "      <th>Depression</th>\n",
       "      <th>Diabetes</th>\n",
       "      <th>Arthritis</th>\n",
       "      <th>Sex</th>\n",
       "      <th>Age_Category</th>\n",
       "      <th>Height_(cm)</th>\n",
       "      <th>Weight_(kg)</th>\n",
       "      <th>BMI</th>\n",
       "      <th>Smoking_History</th>\n",
       "      <th>Alcohol_Consumption</th>\n",
       "      <th>Fruit_Consumption</th>\n",
       "      <th>Green_Vegetables_Consumption</th>\n",
       "      <th>FriedPotato_Consumption</th>\n",
       "      <th>Number_of_Children</th>\n",
       "    </tr>\n",
       "  </thead>\n",
       "  <tbody>\n",
       "    <tr>\n",
       "      <th>308854</th>\n",
       "      <td>341005.0</td>\n",
       "      <td>11/14/2022</td>\n",
       "      <td>Very Good</td>\n",
       "      <td>Within the past year</td>\n",
       "      <td>Yes</td>\n",
       "      <td>No</td>\n",
       "      <td>No</td>\n",
       "      <td>No</td>\n",
       "      <td>No</td>\n",
       "      <td>No</td>\n",
       "      <td>No</td>\n",
       "      <td>Male</td>\n",
       "      <td>25-29</td>\n",
       "      <td>168.0</td>\n",
       "      <td>81.65</td>\n",
       "      <td>29.05</td>\n",
       "      <td>No</td>\n",
       "      <td>4.0</td>\n",
       "      <td>30.0</td>\n",
       "      <td>8.0</td>\n",
       "      <td>0.0</td>\n",
       "      <td>1.0</td>\n",
       "    </tr>\n",
       "    <tr>\n",
       "      <th>308855</th>\n",
       "      <td>341006.0</td>\n",
       "      <td>6/3/2022</td>\n",
       "      <td>Fair</td>\n",
       "      <td>Within the past 5 years</td>\n",
       "      <td>Yes</td>\n",
       "      <td>No</td>\n",
       "      <td>No</td>\n",
       "      <td>No</td>\n",
       "      <td>No</td>\n",
       "      <td>Yes</td>\n",
       "      <td>No</td>\n",
       "      <td>Male</td>\n",
       "      <td>65-69</td>\n",
       "      <td>180.0</td>\n",
       "      <td>69.85</td>\n",
       "      <td>21.48</td>\n",
       "      <td>No</td>\n",
       "      <td>8.0</td>\n",
       "      <td>15.0</td>\n",
       "      <td>60.0</td>\n",
       "      <td>4.0</td>\n",
       "      <td>4.0</td>\n",
       "    </tr>\n",
       "    <tr>\n",
       "      <th>308856</th>\n",
       "      <td>341007.0</td>\n",
       "      <td>7/26/2022</td>\n",
       "      <td>Very Good</td>\n",
       "      <td>5 or more years ago</td>\n",
       "      <td>Yes</td>\n",
       "      <td>No</td>\n",
       "      <td>No</td>\n",
       "      <td>No</td>\n",
       "      <td>Yes</td>\n",
       "      <td>Yes, but female told only during pregnancy</td>\n",
       "      <td>No</td>\n",
       "      <td>Female</td>\n",
       "      <td>30-34</td>\n",
       "      <td>157.0</td>\n",
       "      <td>61.23</td>\n",
       "      <td>24.69</td>\n",
       "      <td>Yes</td>\n",
       "      <td>4.0</td>\n",
       "      <td>40.0</td>\n",
       "      <td>8.0</td>\n",
       "      <td>4.0</td>\n",
       "      <td>4.0</td>\n",
       "    </tr>\n",
       "    <tr>\n",
       "      <th>308857</th>\n",
       "      <td>341008.0</td>\n",
       "      <td>1/13/2022</td>\n",
       "      <td>Very Good</td>\n",
       "      <td>Within the past year</td>\n",
       "      <td>Yes</td>\n",
       "      <td>No</td>\n",
       "      <td>No</td>\n",
       "      <td>No</td>\n",
       "      <td>No</td>\n",
       "      <td>No</td>\n",
       "      <td>No</td>\n",
       "      <td>Male</td>\n",
       "      <td>65-69</td>\n",
       "      <td>183.0</td>\n",
       "      <td>79.38</td>\n",
       "      <td>23.73</td>\n",
       "      <td>No</td>\n",
       "      <td>3.0</td>\n",
       "      <td>30.0</td>\n",
       "      <td>12.0</td>\n",
       "      <td>0.0</td>\n",
       "      <td>3.0</td>\n",
       "    </tr>\n",
       "    <tr>\n",
       "      <th>308858</th>\n",
       "      <td>341009.0</td>\n",
       "      <td>4/28/2022</td>\n",
       "      <td>Excellent</td>\n",
       "      <td>Within the past year</td>\n",
       "      <td>Yes</td>\n",
       "      <td>No</td>\n",
       "      <td>No</td>\n",
       "      <td>No</td>\n",
       "      <td>No</td>\n",
       "      <td>No</td>\n",
       "      <td>No</td>\n",
       "      <td>Female</td>\n",
       "      <td>45-49</td>\n",
       "      <td>160.0</td>\n",
       "      <td>81.19</td>\n",
       "      <td>31.71</td>\n",
       "      <td>No</td>\n",
       "      <td>1.0</td>\n",
       "      <td>5.0</td>\n",
       "      <td>12.0</td>\n",
       "      <td>1.0</td>\n",
       "      <td>1.0</td>\n",
       "    </tr>\n",
       "  </tbody>\n",
       "</table>\n",
       "</div>"
      ],
      "text/plain": [
       "        SurveyID        Date General_Health                  Checkup Exercise  \\\n",
       "308854  341005.0  11/14/2022      Very Good     Within the past year      Yes   \n",
       "308855  341006.0    6/3/2022           Fair  Within the past 5 years      Yes   \n",
       "308856  341007.0   7/26/2022      Very Good      5 or more years ago      Yes   \n",
       "308857  341008.0   1/13/2022      Very Good     Within the past year      Yes   \n",
       "308858  341009.0   4/28/2022      Excellent     Within the past year      Yes   \n",
       "\n",
       "       Heart_Disease Skin_Cancer Other_Cancer Depression  \\\n",
       "308854            No          No           No         No   \n",
       "308855            No          No           No         No   \n",
       "308856            No          No           No        Yes   \n",
       "308857            No          No           No         No   \n",
       "308858            No          No           No         No   \n",
       "\n",
       "                                          Diabetes Arthritis     Sex  \\\n",
       "308854                                          No        No    Male   \n",
       "308855                                         Yes        No    Male   \n",
       "308856  Yes, but female told only during pregnancy        No  Female   \n",
       "308857                                          No        No    Male   \n",
       "308858                                          No        No  Female   \n",
       "\n",
       "       Age_Category  Height_(cm)  Weight_(kg)    BMI Smoking_History  \\\n",
       "308854        25-29        168.0        81.65  29.05              No   \n",
       "308855        65-69        180.0        69.85  21.48              No   \n",
       "308856        30-34        157.0        61.23  24.69             Yes   \n",
       "308857        65-69        183.0        79.38  23.73              No   \n",
       "308858        45-49        160.0        81.19  31.71              No   \n",
       "\n",
       "        Alcohol_Consumption  Fruit_Consumption  Green_Vegetables_Consumption  \\\n",
       "308854                  4.0               30.0                           8.0   \n",
       "308855                  8.0               15.0                          60.0   \n",
       "308856                  4.0               40.0                           8.0   \n",
       "308857                  3.0               30.0                          12.0   \n",
       "308858                  1.0                5.0                          12.0   \n",
       "\n",
       "        FriedPotato_Consumption  Number_of_Children  \n",
       "308854                      0.0                 1.0  \n",
       "308855                      4.0                 4.0  \n",
       "308856                      4.0                 4.0  \n",
       "308857                      0.0                 3.0  \n",
       "308858                      1.0                 1.0  "
      ]
     },
     "execution_count": 6,
     "metadata": {},
     "output_type": "execute_result"
    }
   ],
   "source": [
    "df.tail()"
   ]
  },
  {
   "cell_type": "code",
   "execution_count": 7,
   "id": "6452f511",
   "metadata": {},
   "outputs": [
    {
     "data": {
      "text/html": [
       "<div>\n",
       "<style scoped>\n",
       "    .dataframe tbody tr th:only-of-type {\n",
       "        vertical-align: middle;\n",
       "    }\n",
       "\n",
       "    .dataframe tbody tr th {\n",
       "        vertical-align: top;\n",
       "    }\n",
       "\n",
       "    .dataframe thead th {\n",
       "        text-align: right;\n",
       "    }\n",
       "</style>\n",
       "<table border=\"1\" class=\"dataframe\">\n",
       "  <thead>\n",
       "    <tr style=\"text-align: right;\">\n",
       "      <th></th>\n",
       "      <th>SurveyID</th>\n",
       "      <th>Date</th>\n",
       "      <th>General_Health</th>\n",
       "      <th>Checkup</th>\n",
       "      <th>Exercise</th>\n",
       "      <th>Heart_Disease</th>\n",
       "      <th>Skin_Cancer</th>\n",
       "      <th>Other_Cancer</th>\n",
       "      <th>Depression</th>\n",
       "      <th>Diabetes</th>\n",
       "      <th>Arthritis</th>\n",
       "      <th>Sex</th>\n",
       "      <th>Age_Category</th>\n",
       "      <th>Height_(cm)</th>\n",
       "      <th>Weight_(kg)</th>\n",
       "      <th>BMI</th>\n",
       "      <th>Smoking_History</th>\n",
       "      <th>Alcohol_Consumption</th>\n",
       "      <th>Fruit_Consumption</th>\n",
       "      <th>Green_Vegetables_Consumption</th>\n",
       "      <th>FriedPotato_Consumption</th>\n",
       "      <th>Number_of_Children</th>\n",
       "    </tr>\n",
       "  </thead>\n",
       "  <tbody>\n",
       "    <tr>\n",
       "      <th>84930</th>\n",
       "      <td>117085.0</td>\n",
       "      <td>11/11/2022</td>\n",
       "      <td>Very Good</td>\n",
       "      <td>Within the past year</td>\n",
       "      <td>Yes</td>\n",
       "      <td>No</td>\n",
       "      <td>No</td>\n",
       "      <td>No</td>\n",
       "      <td>No</td>\n",
       "      <td>No</td>\n",
       "      <td>Yes</td>\n",
       "      <td>Female</td>\n",
       "      <td>55-59</td>\n",
       "      <td>163.0</td>\n",
       "      <td>74.84</td>\n",
       "      <td>28.32</td>\n",
       "      <td>Yes</td>\n",
       "      <td>0.0</td>\n",
       "      <td>30.0</td>\n",
       "      <td>8.0</td>\n",
       "      <td>3.0</td>\n",
       "      <td>2.0</td>\n",
       "    </tr>\n",
       "    <tr>\n",
       "      <th>217542</th>\n",
       "      <td>249694.0</td>\n",
       "      <td>4/15/2022</td>\n",
       "      <td>Good</td>\n",
       "      <td>Within the past 2 years</td>\n",
       "      <td>Yes</td>\n",
       "      <td>No</td>\n",
       "      <td>No</td>\n",
       "      <td>No</td>\n",
       "      <td>No</td>\n",
       "      <td>No</td>\n",
       "      <td>No</td>\n",
       "      <td>Female</td>\n",
       "      <td>25-29</td>\n",
       "      <td>160.0</td>\n",
       "      <td>95.25</td>\n",
       "      <td>37.20</td>\n",
       "      <td>No</td>\n",
       "      <td>0.0</td>\n",
       "      <td>90.0</td>\n",
       "      <td>30.0</td>\n",
       "      <td>4.0</td>\n",
       "      <td>3.0</td>\n",
       "    </tr>\n",
       "    <tr>\n",
       "      <th>142804</th>\n",
       "      <td>174958.0</td>\n",
       "      <td>1/3/2022</td>\n",
       "      <td>Good</td>\n",
       "      <td>Within the past year</td>\n",
       "      <td>Yes</td>\n",
       "      <td>No</td>\n",
       "      <td>No</td>\n",
       "      <td>No</td>\n",
       "      <td>No</td>\n",
       "      <td>No</td>\n",
       "      <td>No</td>\n",
       "      <td>Male</td>\n",
       "      <td>35-39</td>\n",
       "      <td>183.0</td>\n",
       "      <td>113.40</td>\n",
       "      <td>33.91</td>\n",
       "      <td>Yes</td>\n",
       "      <td>5.0</td>\n",
       "      <td>20.0</td>\n",
       "      <td>12.0</td>\n",
       "      <td>12.0</td>\n",
       "      <td>1.0</td>\n",
       "    </tr>\n",
       "    <tr>\n",
       "      <th>91986</th>\n",
       "      <td>124140.0</td>\n",
       "      <td>4/8/2022</td>\n",
       "      <td>Very Good</td>\n",
       "      <td>Within the past year</td>\n",
       "      <td>No</td>\n",
       "      <td>No</td>\n",
       "      <td>No</td>\n",
       "      <td>No</td>\n",
       "      <td>Yes</td>\n",
       "      <td>No</td>\n",
       "      <td>No</td>\n",
       "      <td>Female</td>\n",
       "      <td>45-49</td>\n",
       "      <td>163.0</td>\n",
       "      <td>90.72</td>\n",
       "      <td>34.33</td>\n",
       "      <td>No</td>\n",
       "      <td>1.0</td>\n",
       "      <td>12.0</td>\n",
       "      <td>8.0</td>\n",
       "      <td>16.0</td>\n",
       "      <td>1.0</td>\n",
       "    </tr>\n",
       "    <tr>\n",
       "      <th>242451</th>\n",
       "      <td>274603.0</td>\n",
       "      <td>9/17/2022</td>\n",
       "      <td>Very Good</td>\n",
       "      <td>Within the past year</td>\n",
       "      <td>Yes</td>\n",
       "      <td>No</td>\n",
       "      <td>No</td>\n",
       "      <td>No</td>\n",
       "      <td>Yes</td>\n",
       "      <td>No</td>\n",
       "      <td>Yes</td>\n",
       "      <td>Female</td>\n",
       "      <td>18-24</td>\n",
       "      <td>168.0</td>\n",
       "      <td>90.72</td>\n",
       "      <td>32.28</td>\n",
       "      <td>No</td>\n",
       "      <td>15.0</td>\n",
       "      <td>16.0</td>\n",
       "      <td>8.0</td>\n",
       "      <td>4.0</td>\n",
       "      <td>4.0</td>\n",
       "    </tr>\n",
       "  </tbody>\n",
       "</table>\n",
       "</div>"
      ],
      "text/plain": [
       "        SurveyID        Date General_Health                  Checkup Exercise  \\\n",
       "84930   117085.0  11/11/2022      Very Good     Within the past year      Yes   \n",
       "217542  249694.0   4/15/2022           Good  Within the past 2 years      Yes   \n",
       "142804  174958.0    1/3/2022           Good     Within the past year      Yes   \n",
       "91986   124140.0    4/8/2022      Very Good     Within the past year       No   \n",
       "242451  274603.0   9/17/2022      Very Good     Within the past year      Yes   \n",
       "\n",
       "       Heart_Disease Skin_Cancer Other_Cancer Depression Diabetes Arthritis  \\\n",
       "84930             No          No           No         No       No       Yes   \n",
       "217542            No          No           No         No       No        No   \n",
       "142804            No          No           No         No       No        No   \n",
       "91986             No          No           No        Yes       No        No   \n",
       "242451            No          No           No        Yes       No       Yes   \n",
       "\n",
       "           Sex Age_Category  Height_(cm)  Weight_(kg)    BMI Smoking_History  \\\n",
       "84930   Female        55-59        163.0        74.84  28.32             Yes   \n",
       "217542  Female        25-29        160.0        95.25  37.20              No   \n",
       "142804    Male        35-39        183.0       113.40  33.91             Yes   \n",
       "91986   Female        45-49        163.0        90.72  34.33              No   \n",
       "242451  Female        18-24        168.0        90.72  32.28              No   \n",
       "\n",
       "        Alcohol_Consumption  Fruit_Consumption  Green_Vegetables_Consumption  \\\n",
       "84930                   0.0               30.0                           8.0   \n",
       "217542                  0.0               90.0                          30.0   \n",
       "142804                  5.0               20.0                          12.0   \n",
       "91986                   1.0               12.0                           8.0   \n",
       "242451                 15.0               16.0                           8.0   \n",
       "\n",
       "        FriedPotato_Consumption  Number_of_Children  \n",
       "84930                       3.0                 2.0  \n",
       "217542                      4.0                 3.0  \n",
       "142804                     12.0                 1.0  \n",
       "91986                      16.0                 1.0  \n",
       "242451                      4.0                 4.0  "
      ]
     },
     "execution_count": 7,
     "metadata": {},
     "output_type": "execute_result"
    }
   ],
   "source": [
    "df.sample(5)"
   ]
  },
  {
   "cell_type": "code",
   "execution_count": 8,
   "id": "680d6110",
   "metadata": {},
   "outputs": [
    {
     "data": {
      "text/plain": [
       "SurveyID                        float64\n",
       "Date                             object\n",
       "General_Health                   object\n",
       "Checkup                          object\n",
       "Exercise                         object\n",
       "Heart_Disease                    object\n",
       "Skin_Cancer                      object\n",
       "Other_Cancer                     object\n",
       "Depression                       object\n",
       "Diabetes                         object\n",
       "Arthritis                        object\n",
       "Sex                              object\n",
       "Age_Category                     object\n",
       "Height_(cm)                     float64\n",
       "Weight_(kg)                     float64\n",
       "BMI                             float64\n",
       "Smoking_History                  object\n",
       "Alcohol_Consumption             float64\n",
       "Fruit_Consumption               float64\n",
       "Green_Vegetables_Consumption    float64\n",
       "FriedPotato_Consumption         float64\n",
       "Number_of_Children              float64\n",
       "dtype: object"
      ]
     },
     "execution_count": 8,
     "metadata": {},
     "output_type": "execute_result"
    }
   ],
   "source": [
    "df.dtypes"
   ]
  },
  {
   "cell_type": "code",
   "execution_count": 9,
   "id": "c9041652",
   "metadata": {},
   "outputs": [
    {
     "name": "stdout",
     "output_type": "stream",
     "text": [
      "<class 'pandas.core.frame.DataFrame'>\n",
      "RangeIndex: 308859 entries, 0 to 308858\n",
      "Data columns (total 22 columns):\n",
      " #   Column                        Non-Null Count   Dtype  \n",
      "---  ------                        --------------   -----  \n",
      " 0   SurveyID                      308856 non-null  float64\n",
      " 1   Date                          308856 non-null  object \n",
      " 2   General_Health                308856 non-null  object \n",
      " 3   Checkup                       308856 non-null  object \n",
      " 4   Exercise                      308856 non-null  object \n",
      " 5   Heart_Disease                 308856 non-null  object \n",
      " 6   Skin_Cancer                   308856 non-null  object \n",
      " 7   Other_Cancer                  308856 non-null  object \n",
      " 8   Depression                    308856 non-null  object \n",
      " 9   Diabetes                      308856 non-null  object \n",
      " 10  Arthritis                     308856 non-null  object \n",
      " 11  Sex                           308856 non-null  object \n",
      " 12  Age_Category                  308856 non-null  object \n",
      " 13  Height_(cm)                   308853 non-null  float64\n",
      " 14  Weight_(kg)                   308854 non-null  float64\n",
      " 15  BMI                           308856 non-null  float64\n",
      " 16  Smoking_History               308855 non-null  object \n",
      " 17  Alcohol_Consumption           308854 non-null  float64\n",
      " 18  Fruit_Consumption             308856 non-null  float64\n",
      " 19  Green_Vegetables_Consumption  308856 non-null  float64\n",
      " 20  FriedPotato_Consumption       308856 non-null  float64\n",
      " 21  Number_of_Children            308856 non-null  float64\n",
      "dtypes: float64(9), object(13)\n",
      "memory usage: 51.8+ MB\n"
     ]
    }
   ],
   "source": [
    "df.info()"
   ]
  },
  {
   "cell_type": "code",
   "execution_count": 10,
   "id": "c8834ced",
   "metadata": {},
   "outputs": [
    {
     "data": {
      "text/html": [
       "<div>\n",
       "<style scoped>\n",
       "    .dataframe tbody tr th:only-of-type {\n",
       "        vertical-align: middle;\n",
       "    }\n",
       "\n",
       "    .dataframe tbody tr th {\n",
       "        vertical-align: top;\n",
       "    }\n",
       "\n",
       "    .dataframe thead th {\n",
       "        text-align: right;\n",
       "    }\n",
       "</style>\n",
       "<table border=\"1\" class=\"dataframe\">\n",
       "  <thead>\n",
       "    <tr style=\"text-align: right;\">\n",
       "      <th></th>\n",
       "      <th>SurveyID</th>\n",
       "      <th>Height_(cm)</th>\n",
       "      <th>Weight_(kg)</th>\n",
       "      <th>BMI</th>\n",
       "      <th>Alcohol_Consumption</th>\n",
       "      <th>Fruit_Consumption</th>\n",
       "      <th>Green_Vegetables_Consumption</th>\n",
       "      <th>FriedPotato_Consumption</th>\n",
       "      <th>Number_of_Children</th>\n",
       "    </tr>\n",
       "  </thead>\n",
       "  <tbody>\n",
       "    <tr>\n",
       "      <th>count</th>\n",
       "      <td>308856.000000</td>\n",
       "      <td>308853.000000</td>\n",
       "      <td>308854.000000</td>\n",
       "      <td>308856.000000</td>\n",
       "      <td>308854.000000</td>\n",
       "      <td>308856.000000</td>\n",
       "      <td>308856.000000</td>\n",
       "      <td>308856.000000</td>\n",
       "      <td>308856.000000</td>\n",
       "    </tr>\n",
       "    <tr>\n",
       "      <th>mean</th>\n",
       "      <td>186582.105988</td>\n",
       "      <td>170.617815</td>\n",
       "      <td>83.592379</td>\n",
       "      <td>28.626256</td>\n",
       "      <td>5.096450</td>\n",
       "      <td>29.835143</td>\n",
       "      <td>15.110433</td>\n",
       "      <td>6.296630</td>\n",
       "      <td>2.500661</td>\n",
       "    </tr>\n",
       "    <tr>\n",
       "      <th>std</th>\n",
       "      <td>89158.778111</td>\n",
       "      <td>10.702337</td>\n",
       "      <td>21.391227</td>\n",
       "      <td>6.522381</td>\n",
       "      <td>8.199885</td>\n",
       "      <td>24.875676</td>\n",
       "      <td>14.926191</td>\n",
       "      <td>8.582933</td>\n",
       "      <td>1.119271</td>\n",
       "    </tr>\n",
       "    <tr>\n",
       "      <th>min</th>\n",
       "      <td>32156.000000</td>\n",
       "      <td>91.000000</td>\n",
       "      <td>24.950000</td>\n",
       "      <td>12.020000</td>\n",
       "      <td>0.000000</td>\n",
       "      <td>0.000000</td>\n",
       "      <td>0.000000</td>\n",
       "      <td>0.000000</td>\n",
       "      <td>1.000000</td>\n",
       "    </tr>\n",
       "    <tr>\n",
       "      <th>25%</th>\n",
       "      <td>109368.750000</td>\n",
       "      <td>163.000000</td>\n",
       "      <td>68.040000</td>\n",
       "      <td>24.210000</td>\n",
       "      <td>0.000000</td>\n",
       "      <td>12.000000</td>\n",
       "      <td>4.000000</td>\n",
       "      <td>2.000000</td>\n",
       "      <td>1.000000</td>\n",
       "    </tr>\n",
       "    <tr>\n",
       "      <th>50%</th>\n",
       "      <td>186582.500000</td>\n",
       "      <td>170.000000</td>\n",
       "      <td>81.650000</td>\n",
       "      <td>27.440000</td>\n",
       "      <td>1.000000</td>\n",
       "      <td>30.000000</td>\n",
       "      <td>12.000000</td>\n",
       "      <td>4.000000</td>\n",
       "      <td>3.000000</td>\n",
       "    </tr>\n",
       "    <tr>\n",
       "      <th>75%</th>\n",
       "      <td>263795.250000</td>\n",
       "      <td>178.000000</td>\n",
       "      <td>95.250000</td>\n",
       "      <td>31.850000</td>\n",
       "      <td>6.000000</td>\n",
       "      <td>30.000000</td>\n",
       "      <td>20.000000</td>\n",
       "      <td>8.000000</td>\n",
       "      <td>4.000000</td>\n",
       "    </tr>\n",
       "    <tr>\n",
       "      <th>max</th>\n",
       "      <td>341009.000000</td>\n",
       "      <td>600.000000</td>\n",
       "      <td>750.000000</td>\n",
       "      <td>99.330000</td>\n",
       "      <td>30.000000</td>\n",
       "      <td>120.000000</td>\n",
       "      <td>128.000000</td>\n",
       "      <td>128.000000</td>\n",
       "      <td>4.000000</td>\n",
       "    </tr>\n",
       "  </tbody>\n",
       "</table>\n",
       "</div>"
      ],
      "text/plain": [
       "            SurveyID    Height_(cm)    Weight_(kg)            BMI  \\\n",
       "count  308856.000000  308853.000000  308854.000000  308856.000000   \n",
       "mean   186582.105988     170.617815      83.592379      28.626256   \n",
       "std     89158.778111      10.702337      21.391227       6.522381   \n",
       "min     32156.000000      91.000000      24.950000      12.020000   \n",
       "25%    109368.750000     163.000000      68.040000      24.210000   \n",
       "50%    186582.500000     170.000000      81.650000      27.440000   \n",
       "75%    263795.250000     178.000000      95.250000      31.850000   \n",
       "max    341009.000000     600.000000     750.000000      99.330000   \n",
       "\n",
       "       Alcohol_Consumption  Fruit_Consumption  Green_Vegetables_Consumption  \\\n",
       "count        308854.000000      308856.000000                 308856.000000   \n",
       "mean              5.096450          29.835143                     15.110433   \n",
       "std               8.199885          24.875676                     14.926191   \n",
       "min               0.000000           0.000000                      0.000000   \n",
       "25%               0.000000          12.000000                      4.000000   \n",
       "50%               1.000000          30.000000                     12.000000   \n",
       "75%               6.000000          30.000000                     20.000000   \n",
       "max              30.000000         120.000000                    128.000000   \n",
       "\n",
       "       FriedPotato_Consumption  Number_of_Children  \n",
       "count            308856.000000       308856.000000  \n",
       "mean                  6.296630            2.500661  \n",
       "std                   8.582933            1.119271  \n",
       "min                   0.000000            1.000000  \n",
       "25%                   2.000000            1.000000  \n",
       "50%                   4.000000            3.000000  \n",
       "75%                   8.000000            4.000000  \n",
       "max                 128.000000            4.000000  "
      ]
     },
     "execution_count": 10,
     "metadata": {},
     "output_type": "execute_result"
    }
   ],
   "source": [
    "df.describe()"
   ]
  },
  {
   "cell_type": "code",
   "execution_count": 11,
   "id": "7e876a49",
   "metadata": {},
   "outputs": [
    {
     "data": {
      "text/html": [
       "<div>\n",
       "<style scoped>\n",
       "    .dataframe tbody tr th:only-of-type {\n",
       "        vertical-align: middle;\n",
       "    }\n",
       "\n",
       "    .dataframe tbody tr th {\n",
       "        vertical-align: top;\n",
       "    }\n",
       "\n",
       "    .dataframe thead th {\n",
       "        text-align: right;\n",
       "    }\n",
       "</style>\n",
       "<table border=\"1\" class=\"dataframe\">\n",
       "  <thead>\n",
       "    <tr style=\"text-align: right;\">\n",
       "      <th></th>\n",
       "      <th>Date</th>\n",
       "      <th>General_Health</th>\n",
       "      <th>Checkup</th>\n",
       "      <th>Exercise</th>\n",
       "      <th>Heart_Disease</th>\n",
       "      <th>Skin_Cancer</th>\n",
       "      <th>Other_Cancer</th>\n",
       "      <th>Depression</th>\n",
       "      <th>Diabetes</th>\n",
       "      <th>Arthritis</th>\n",
       "      <th>Sex</th>\n",
       "      <th>Age_Category</th>\n",
       "      <th>Smoking_History</th>\n",
       "    </tr>\n",
       "  </thead>\n",
       "  <tbody>\n",
       "    <tr>\n",
       "      <th>count</th>\n",
       "      <td>308856</td>\n",
       "      <td>308856</td>\n",
       "      <td>308856</td>\n",
       "      <td>308856</td>\n",
       "      <td>308856</td>\n",
       "      <td>308856</td>\n",
       "      <td>308856</td>\n",
       "      <td>308856</td>\n",
       "      <td>308856</td>\n",
       "      <td>308856</td>\n",
       "      <td>308856</td>\n",
       "      <td>308856</td>\n",
       "      <td>308855</td>\n",
       "    </tr>\n",
       "    <tr>\n",
       "      <th>unique</th>\n",
       "      <td>365</td>\n",
       "      <td>14</td>\n",
       "      <td>5</td>\n",
       "      <td>2</td>\n",
       "      <td>3</td>\n",
       "      <td>2</td>\n",
       "      <td>2</td>\n",
       "      <td>2</td>\n",
       "      <td>4</td>\n",
       "      <td>2</td>\n",
       "      <td>2</td>\n",
       "      <td>13</td>\n",
       "      <td>2</td>\n",
       "    </tr>\n",
       "    <tr>\n",
       "      <th>top</th>\n",
       "      <td>1/15/2022</td>\n",
       "      <td>Very Good</td>\n",
       "      <td>Within the past year</td>\n",
       "      <td>Yes</td>\n",
       "      <td>No</td>\n",
       "      <td>No</td>\n",
       "      <td>No</td>\n",
       "      <td>No</td>\n",
       "      <td>No</td>\n",
       "      <td>No</td>\n",
       "      <td>Female</td>\n",
       "      <td>65-69</td>\n",
       "      <td>No</td>\n",
       "    </tr>\n",
       "    <tr>\n",
       "      <th>freq</th>\n",
       "      <td>928</td>\n",
       "      <td>110389</td>\n",
       "      <td>239373</td>\n",
       "      <td>239382</td>\n",
       "      <td>283879</td>\n",
       "      <td>278862</td>\n",
       "      <td>278978</td>\n",
       "      <td>246954</td>\n",
       "      <td>259143</td>\n",
       "      <td>207784</td>\n",
       "      <td>160196</td>\n",
       "      <td>33435</td>\n",
       "      <td>183590</td>\n",
       "    </tr>\n",
       "  </tbody>\n",
       "</table>\n",
       "</div>"
      ],
      "text/plain": [
       "             Date General_Health               Checkup Exercise Heart_Disease  \\\n",
       "count      308856         308856                308856   308856        308856   \n",
       "unique        365             14                     5        2             3   \n",
       "top     1/15/2022      Very Good  Within the past year      Yes            No   \n",
       "freq          928         110389                239373   239382        283879   \n",
       "\n",
       "       Skin_Cancer Other_Cancer Depression Diabetes Arthritis     Sex  \\\n",
       "count       308856       308856     308856   308856    308856  308856   \n",
       "unique           2            2          2        4         2       2   \n",
       "top             No           No         No       No        No  Female   \n",
       "freq        278862       278978     246954   259143    207784  160196   \n",
       "\n",
       "       Age_Category Smoking_History  \n",
       "count        308856          308855  \n",
       "unique           13               2  \n",
       "top           65-69              No  \n",
       "freq          33435          183590  "
      ]
     },
     "execution_count": 11,
     "metadata": {},
     "output_type": "execute_result"
    }
   ],
   "source": [
    "df.describe(include='object')"
   ]
  },
  {
   "cell_type": "code",
   "execution_count": 12,
   "id": "71c51acf",
   "metadata": {},
   "outputs": [],
   "source": [
    "# drop extra columns\n",
    "df=df.drop('Number_of_Children',axis=1)"
   ]
  },
  {
   "cell_type": "code",
   "execution_count": 13,
   "id": "0178cf5f",
   "metadata": {},
   "outputs": [],
   "source": [
    "# Rename columns\n",
    "df=df.rename(columns={\"Height_(cm)\":\"Height\",\"Weight_(kg)\":\"Weight\"})"
   ]
  },
  {
   "cell_type": "code",
   "execution_count": 14,
   "id": "1f8f40bd",
   "metadata": {},
   "outputs": [
    {
     "name": "stdout",
     "output_type": "stream",
     "text": [
      "<class 'pandas.core.frame.DataFrame'>\n",
      "RangeIndex: 308859 entries, 0 to 308858\n",
      "Data columns (total 21 columns):\n",
      " #   Column                        Non-Null Count   Dtype  \n",
      "---  ------                        --------------   -----  \n",
      " 0   SurveyID                      308856 non-null  float64\n",
      " 1   Date                          308856 non-null  object \n",
      " 2   General_Health                308856 non-null  object \n",
      " 3   Checkup                       308856 non-null  object \n",
      " 4   Exercise                      308856 non-null  object \n",
      " 5   Heart_Disease                 308856 non-null  object \n",
      " 6   Skin_Cancer                   308856 non-null  object \n",
      " 7   Other_Cancer                  308856 non-null  object \n",
      " 8   Depression                    308856 non-null  object \n",
      " 9   Diabetes                      308856 non-null  object \n",
      " 10  Arthritis                     308856 non-null  object \n",
      " 11  Sex                           308856 non-null  object \n",
      " 12  Age_Category                  308856 non-null  object \n",
      " 13  Height                        308853 non-null  float64\n",
      " 14  Weight                        308854 non-null  float64\n",
      " 15  BMI                           308856 non-null  float64\n",
      " 16  Smoking_History               308855 non-null  object \n",
      " 17  Alcohol_Consumption           308854 non-null  float64\n",
      " 18  Fruit_Consumption             308856 non-null  float64\n",
      " 19  Green_Vegetables_Consumption  308856 non-null  float64\n",
      " 20  FriedPotato_Consumption       308856 non-null  float64\n",
      "dtypes: float64(8), object(13)\n",
      "memory usage: 49.5+ MB\n"
     ]
    }
   ],
   "source": [
    "df.info()"
   ]
  },
  {
   "cell_type": "code",
   "execution_count": 15,
   "id": "75a59268",
   "metadata": {},
   "outputs": [
    {
     "data": {
      "text/plain": [
       "SurveyID                        3\n",
       "Date                            3\n",
       "General_Health                  3\n",
       "Checkup                         3\n",
       "Exercise                        3\n",
       "Heart_Disease                   3\n",
       "Skin_Cancer                     3\n",
       "Other_Cancer                    3\n",
       "Depression                      3\n",
       "Diabetes                        3\n",
       "Arthritis                       3\n",
       "Sex                             3\n",
       "Age_Category                    3\n",
       "Height                          6\n",
       "Weight                          5\n",
       "BMI                             3\n",
       "Smoking_History                 4\n",
       "Alcohol_Consumption             5\n",
       "Fruit_Consumption               3\n",
       "Green_Vegetables_Consumption    3\n",
       "FriedPotato_Consumption         3\n",
       "dtype: int64"
      ]
     },
     "execution_count": 15,
     "metadata": {},
     "output_type": "execute_result"
    }
   ],
   "source": [
    "#Checking nulls\n",
    "df.isnull().sum()"
   ]
  },
  {
   "cell_type": "code",
   "execution_count": 16,
   "id": "1f7be8a8",
   "metadata": {},
   "outputs": [
    {
     "data": {
      "text/html": [
       "<div>\n",
       "<style scoped>\n",
       "    .dataframe tbody tr th:only-of-type {\n",
       "        vertical-align: middle;\n",
       "    }\n",
       "\n",
       "    .dataframe tbody tr th {\n",
       "        vertical-align: top;\n",
       "    }\n",
       "\n",
       "    .dataframe thead th {\n",
       "        text-align: right;\n",
       "    }\n",
       "</style>\n",
       "<table border=\"1\" class=\"dataframe\">\n",
       "  <thead>\n",
       "    <tr style=\"text-align: right;\">\n",
       "      <th></th>\n",
       "      <th>SurveyID</th>\n",
       "      <th>Date</th>\n",
       "      <th>General_Health</th>\n",
       "      <th>Checkup</th>\n",
       "      <th>Exercise</th>\n",
       "      <th>Heart_Disease</th>\n",
       "      <th>Skin_Cancer</th>\n",
       "      <th>Other_Cancer</th>\n",
       "      <th>Depression</th>\n",
       "      <th>Diabetes</th>\n",
       "      <th>Arthritis</th>\n",
       "      <th>Sex</th>\n",
       "      <th>Age_Category</th>\n",
       "      <th>Height</th>\n",
       "      <th>Weight</th>\n",
       "      <th>BMI</th>\n",
       "      <th>Smoking_History</th>\n",
       "      <th>Alcohol_Consumption</th>\n",
       "      <th>Fruit_Consumption</th>\n",
       "      <th>Green_Vegetables_Consumption</th>\n",
       "      <th>FriedPotato_Consumption</th>\n",
       "    </tr>\n",
       "  </thead>\n",
       "  <tbody>\n",
       "    <tr>\n",
       "      <th>87473</th>\n",
       "      <td>NaN</td>\n",
       "      <td>NaN</td>\n",
       "      <td>NaN</td>\n",
       "      <td>NaN</td>\n",
       "      <td>NaN</td>\n",
       "      <td>NaN</td>\n",
       "      <td>NaN</td>\n",
       "      <td>NaN</td>\n",
       "      <td>NaN</td>\n",
       "      <td>NaN</td>\n",
       "      <td>NaN</td>\n",
       "      <td>NaN</td>\n",
       "      <td>NaN</td>\n",
       "      <td>NaN</td>\n",
       "      <td>NaN</td>\n",
       "      <td>NaN</td>\n",
       "      <td>NaN</td>\n",
       "      <td>NaN</td>\n",
       "      <td>NaN</td>\n",
       "      <td>NaN</td>\n",
       "      <td>NaN</td>\n",
       "    </tr>\n",
       "    <tr>\n",
       "      <th>162243</th>\n",
       "      <td>NaN</td>\n",
       "      <td>NaN</td>\n",
       "      <td>NaN</td>\n",
       "      <td>NaN</td>\n",
       "      <td>NaN</td>\n",
       "      <td>NaN</td>\n",
       "      <td>NaN</td>\n",
       "      <td>NaN</td>\n",
       "      <td>NaN</td>\n",
       "      <td>NaN</td>\n",
       "      <td>NaN</td>\n",
       "      <td>NaN</td>\n",
       "      <td>NaN</td>\n",
       "      <td>NaN</td>\n",
       "      <td>NaN</td>\n",
       "      <td>NaN</td>\n",
       "      <td>NaN</td>\n",
       "      <td>NaN</td>\n",
       "      <td>NaN</td>\n",
       "      <td>NaN</td>\n",
       "      <td>NaN</td>\n",
       "    </tr>\n",
       "    <tr>\n",
       "      <th>262911</th>\n",
       "      <td>NaN</td>\n",
       "      <td>NaN</td>\n",
       "      <td>NaN</td>\n",
       "      <td>NaN</td>\n",
       "      <td>NaN</td>\n",
       "      <td>NaN</td>\n",
       "      <td>NaN</td>\n",
       "      <td>NaN</td>\n",
       "      <td>NaN</td>\n",
       "      <td>NaN</td>\n",
       "      <td>NaN</td>\n",
       "      <td>NaN</td>\n",
       "      <td>NaN</td>\n",
       "      <td>NaN</td>\n",
       "      <td>NaN</td>\n",
       "      <td>NaN</td>\n",
       "      <td>NaN</td>\n",
       "      <td>NaN</td>\n",
       "      <td>NaN</td>\n",
       "      <td>NaN</td>\n",
       "      <td>NaN</td>\n",
       "    </tr>\n",
       "  </tbody>\n",
       "</table>\n",
       "</div>"
      ],
      "text/plain": [
       "        SurveyID Date General_Health Checkup Exercise Heart_Disease  \\\n",
       "87473        NaN  NaN            NaN     NaN      NaN           NaN   \n",
       "162243       NaN  NaN            NaN     NaN      NaN           NaN   \n",
       "262911       NaN  NaN            NaN     NaN      NaN           NaN   \n",
       "\n",
       "       Skin_Cancer Other_Cancer Depression Diabetes Arthritis  Sex  \\\n",
       "87473          NaN          NaN        NaN      NaN       NaN  NaN   \n",
       "162243         NaN          NaN        NaN      NaN       NaN  NaN   \n",
       "262911         NaN          NaN        NaN      NaN       NaN  NaN   \n",
       "\n",
       "       Age_Category  Height  Weight  BMI Smoking_History  Alcohol_Consumption  \\\n",
       "87473           NaN     NaN     NaN  NaN             NaN                  NaN   \n",
       "162243          NaN     NaN     NaN  NaN             NaN                  NaN   \n",
       "262911          NaN     NaN     NaN  NaN             NaN                  NaN   \n",
       "\n",
       "        Fruit_Consumption  Green_Vegetables_Consumption  \\\n",
       "87473                 NaN                           NaN   \n",
       "162243                NaN                           NaN   \n",
       "262911                NaN                           NaN   \n",
       "\n",
       "        FriedPotato_Consumption  \n",
       "87473                       NaN  \n",
       "162243                      NaN  \n",
       "262911                      NaN  "
      ]
     },
     "execution_count": 16,
     "metadata": {},
     "output_type": "execute_result"
    }
   ],
   "source": [
    "#Removing nulls\n",
    "df[df['SurveyID'].isnull()]"
   ]
  },
  {
   "cell_type": "code",
   "execution_count": 17,
   "id": "4a4dad78",
   "metadata": {},
   "outputs": [],
   "source": [
    "df=df.dropna(how='all')"
   ]
  },
  {
   "cell_type": "code",
   "execution_count": 18,
   "id": "9f61c52b",
   "metadata": {},
   "outputs": [
    {
     "data": {
      "text/plain": [
       "SurveyID                        0\n",
       "Date                            0\n",
       "General_Health                  0\n",
       "Checkup                         0\n",
       "Exercise                        0\n",
       "Heart_Disease                   0\n",
       "Skin_Cancer                     0\n",
       "Other_Cancer                    0\n",
       "Depression                      0\n",
       "Diabetes                        0\n",
       "Arthritis                       0\n",
       "Sex                             0\n",
       "Age_Category                    0\n",
       "Height                          3\n",
       "Weight                          2\n",
       "BMI                             0\n",
       "Smoking_History                 1\n",
       "Alcohol_Consumption             2\n",
       "Fruit_Consumption               0\n",
       "Green_Vegetables_Consumption    0\n",
       "FriedPotato_Consumption         0\n",
       "dtype: int64"
      ]
     },
     "execution_count": 18,
     "metadata": {},
     "output_type": "execute_result"
    }
   ],
   "source": [
    "df.isnull().sum()"
   ]
  },
  {
   "cell_type": "code",
   "execution_count": 19,
   "id": "8b063a68",
   "metadata": {},
   "outputs": [],
   "source": [
    "values = {\"Height\": df['Height'].median(), \"Weight\": df['Weight'].median(),\"Smoking_History\": df['Smoking_History'].mode()[0]}\n",
    "df=df.fillna(value=values)"
   ]
  },
  {
   "cell_type": "code",
   "execution_count": 20,
   "id": "b674fe26",
   "metadata": {},
   "outputs": [],
   "source": [
    "df=df.dropna(how='any')"
   ]
  },
  {
   "cell_type": "code",
   "execution_count": 21,
   "id": "83650663",
   "metadata": {},
   "outputs": [
    {
     "data": {
      "text/plain": [
       "SurveyID                        0\n",
       "Date                            0\n",
       "General_Health                  0\n",
       "Checkup                         0\n",
       "Exercise                        0\n",
       "Heart_Disease                   0\n",
       "Skin_Cancer                     0\n",
       "Other_Cancer                    0\n",
       "Depression                      0\n",
       "Diabetes                        0\n",
       "Arthritis                       0\n",
       "Sex                             0\n",
       "Age_Category                    0\n",
       "Height                          0\n",
       "Weight                          0\n",
       "BMI                             0\n",
       "Smoking_History                 0\n",
       "Alcohol_Consumption             0\n",
       "Fruit_Consumption               0\n",
       "Green_Vegetables_Consumption    0\n",
       "FriedPotato_Consumption         0\n",
       "dtype: int64"
      ]
     },
     "execution_count": 21,
     "metadata": {},
     "output_type": "execute_result"
    }
   ],
   "source": [
    "df.isnull().sum()"
   ]
  },
  {
   "cell_type": "code",
   "execution_count": 22,
   "id": "cbf5eac1",
   "metadata": {},
   "outputs": [],
   "source": [
    "# Change datatypes\n",
    "df['SurveyID']=df['SurveyID'].astype('int')\n",
    "df['General_Health']=df['General_Health'].astype('category')\n",
    "df['Checkup']=df['Checkup'].astype('category')\n",
    "df['Exercise']=df['Exercise'].astype('category')\n",
    "df['Heart_Disease']=df['Heart_Disease'].astype('category')\n",
    "df['Skin_Cancer']=df['Skin_Cancer'].astype('category')\n",
    "df['Other_Cancer']=df['Other_Cancer'].astype('category')\n",
    "df['Depression']=df['Depression'].astype('category')\n",
    "df['Diabetes']=df['Diabetes'].astype('category')\n",
    "df['Arthritis']=df['Arthritis'].astype('category')\n",
    "df['Sex']=df['Sex'].astype('category')\n",
    "df['Age_Category']=df['Age_Category'].astype('category')\n",
    "df['Smoking_History']=df['Smoking_History'].astype('category')\n",
    "df['Alcohol_Consumption']=df['Alcohol_Consumption'].astype('int')\n",
    "df['Fruit_Consumption']=df['Fruit_Consumption'].astype('int')\n",
    "df['Green_Vegetables_Consumption']=df['Green_Vegetables_Consumption'].astype('int')\n",
    "df['FriedPotato_Consumption']=df['FriedPotato_Consumption'].astype('int')"
   ]
  },
  {
   "cell_type": "code",
   "execution_count": 23,
   "id": "385efe17",
   "metadata": {},
   "outputs": [],
   "source": [
    "df['Date'] = pd.to_datetime(df['Date'])"
   ]
  },
  {
   "cell_type": "code",
   "execution_count": 24,
   "id": "c59eaacd",
   "metadata": {},
   "outputs": [],
   "source": [
    "df['Month'] = df['Date'].dt.month_name()"
   ]
  },
  {
   "cell_type": "code",
   "execution_count": 25,
   "id": "b6fb15c7",
   "metadata": {},
   "outputs": [
    {
     "name": "stdout",
     "output_type": "stream",
     "text": [
      "<class 'pandas.core.frame.DataFrame'>\n",
      "Int64Index: 308854 entries, 0 to 308858\n",
      "Data columns (total 22 columns):\n",
      " #   Column                        Non-Null Count   Dtype         \n",
      "---  ------                        --------------   -----         \n",
      " 0   SurveyID                      308854 non-null  int32         \n",
      " 1   Date                          308854 non-null  datetime64[ns]\n",
      " 2   General_Health                308854 non-null  category      \n",
      " 3   Checkup                       308854 non-null  category      \n",
      " 4   Exercise                      308854 non-null  category      \n",
      " 5   Heart_Disease                 308854 non-null  category      \n",
      " 6   Skin_Cancer                   308854 non-null  category      \n",
      " 7   Other_Cancer                  308854 non-null  category      \n",
      " 8   Depression                    308854 non-null  category      \n",
      " 9   Diabetes                      308854 non-null  category      \n",
      " 10  Arthritis                     308854 non-null  category      \n",
      " 11  Sex                           308854 non-null  category      \n",
      " 12  Age_Category                  308854 non-null  category      \n",
      " 13  Height                        308854 non-null  float64       \n",
      " 14  Weight                        308854 non-null  float64       \n",
      " 15  BMI                           308854 non-null  float64       \n",
      " 16  Smoking_History               308854 non-null  category      \n",
      " 17  Alcohol_Consumption           308854 non-null  int32         \n",
      " 18  Fruit_Consumption             308854 non-null  int32         \n",
      " 19  Green_Vegetables_Consumption  308854 non-null  int32         \n",
      " 20  FriedPotato_Consumption       308854 non-null  int32         \n",
      " 21  Month                         308854 non-null  object        \n",
      "dtypes: category(12), datetime64[ns](1), float64(3), int32(5), object(1)\n",
      "memory usage: 23.6+ MB\n"
     ]
    }
   ],
   "source": [
    "df.info()"
   ]
  },
  {
   "cell_type": "code",
   "execution_count": 27,
   "id": "2934a5aa",
   "metadata": {},
   "outputs": [
    {
     "data": {
      "text/plain": [
       "2"
      ]
     },
     "execution_count": 27,
     "metadata": {},
     "output_type": "execute_result"
    }
   ],
   "source": [
    "# Remove duplicate rows\n",
    "df.duplicated(subset=['SurveyID']).sum()"
   ]
  },
  {
   "cell_type": "code",
   "execution_count": 28,
   "id": "64576417",
   "metadata": {},
   "outputs": [],
   "source": [
    "df=df.drop_duplicates(subset=['SurveyID'])"
   ]
  },
  {
   "cell_type": "code",
   "execution_count": 29,
   "id": "973a7bc7",
   "metadata": {},
   "outputs": [
    {
     "data": {
      "text/plain": [
       "0"
      ]
     },
     "execution_count": 29,
     "metadata": {},
     "output_type": "execute_result"
    }
   ],
   "source": [
    "df.duplicated(subset=['SurveyID']).sum()"
   ]
  },
  {
   "cell_type": "code",
   "execution_count": 30,
   "id": "1bad407c",
   "metadata": {},
   "outputs": [
    {
     "data": {
      "text/plain": [
       "['Poor', 'Very Good', 'Very GOod', 'Goo      d', 'Good', ..., 'Go)od', 'Very G)ood', '          Fair', 'Fai   r', 'Excel         lent']\n",
       "Length: 14\n",
       "Categories (14, object): ['          Fair', 'Exce)llent', 'Excel         lent', 'Excellent', ..., 'Poor', 'Very G)ood', 'Very GOod', 'Very Good']"
      ]
     },
     "execution_count": 30,
     "metadata": {},
     "output_type": "execute_result"
    }
   ],
   "source": [
    "df['General_Health'].unique()"
   ]
  },
  {
   "cell_type": "code",
   "execution_count": 31,
   "id": "f77545da",
   "metadata": {},
   "outputs": [
    {
     "name": "stderr",
     "output_type": "stream",
     "text": [
      "C:\\Users\\Shubham Jain\\AppData\\Local\\Temp\\ipykernel_18736\\3029576694.py:4: FutureWarning: The default value of regex will change from True to False in a future version. In addition, single character regular expressions will *not* be treated as literal strings when regex=True.\n",
      "  df['General_Health']=df['General_Health'].str.replace(')','')\n"
     ]
    }
   ],
   "source": [
    "df['General_Health']=df['General_Health'].str.strip()\n",
    "df['General_Health']=df['General_Health'].str.replace(' ','')\n",
    "df['General_Health']=df['General_Health'].str.replace('O','o')\n",
    "df['General_Health']=df['General_Health'].str.replace(')','')"
   ]
  },
  {
   "cell_type": "code",
   "execution_count": 32,
   "id": "118dd01c",
   "metadata": {},
   "outputs": [
    {
     "data": {
      "text/plain": [
       "array(['Poor', 'VeryGood', 'Good', 'Fair', 'Excellent'], dtype=object)"
      ]
     },
     "execution_count": 32,
     "metadata": {},
     "output_type": "execute_result"
    }
   ],
   "source": [
    "df['General_Health'].unique()"
   ]
  },
  {
   "cell_type": "code",
   "execution_count": 33,
   "id": "353ad083",
   "metadata": {},
   "outputs": [
    {
     "data": {
      "text/plain": [
       "['Within the past 2 years', 'Within the past year', '5 or more years ago', 'Within the past 5 years', 'Never']\n",
       "Categories (5, object): ['5 or more years ago', 'Never', 'Within the past 2 years', 'Within the past 5 years', 'Within the past year']"
      ]
     },
     "execution_count": 33,
     "metadata": {},
     "output_type": "execute_result"
    }
   ],
   "source": [
    "df['Checkup'].unique()"
   ]
  },
  {
   "cell_type": "code",
   "execution_count": 34,
   "id": "1798fcad",
   "metadata": {},
   "outputs": [
    {
     "data": {
      "text/plain": [
       "['No', 'Yes']\n",
       "Categories (2, object): ['No', 'Yes']"
      ]
     },
     "execution_count": 34,
     "metadata": {},
     "output_type": "execute_result"
    }
   ],
   "source": [
    "df['Exercise'].unique()"
   ]
  },
  {
   "cell_type": "code",
   "execution_count": 35,
   "id": "b2dbcfad",
   "metadata": {},
   "outputs": [
    {
     "data": {
      "text/plain": [
       "['No', 'Yes', 'N']\n",
       "Categories (3, object): ['N', 'No', 'Yes']"
      ]
     },
     "execution_count": 35,
     "metadata": {},
     "output_type": "execute_result"
    }
   ],
   "source": [
    "df['Heart_Disease'].unique()"
   ]
  },
  {
   "cell_type": "code",
   "execution_count": 36,
   "id": "72fa62a6",
   "metadata": {},
   "outputs": [],
   "source": [
    "df['Heart_Disease']=df['Heart_Disease'].str.replace('No','N')\n",
    "df['Heart_Disease']=df['Heart_Disease'].str.replace('N','No')"
   ]
  },
  {
   "cell_type": "code",
   "execution_count": 37,
   "id": "63bb3de7",
   "metadata": {},
   "outputs": [
    {
     "data": {
      "text/plain": [
       "array(['No', 'Yes'], dtype=object)"
      ]
     },
     "execution_count": 37,
     "metadata": {},
     "output_type": "execute_result"
    }
   ],
   "source": [
    "df['Heart_Disease'].unique()"
   ]
  },
  {
   "cell_type": "code",
   "execution_count": 38,
   "id": "51f1aedf",
   "metadata": {},
   "outputs": [
    {
     "data": {
      "text/plain": [
       "['No', 'Yes']\n",
       "Categories (2, object): ['No', 'Yes']"
      ]
     },
     "execution_count": 38,
     "metadata": {},
     "output_type": "execute_result"
    }
   ],
   "source": [
    "df['Skin_Cancer'].unique()"
   ]
  },
  {
   "cell_type": "code",
   "execution_count": 39,
   "id": "8f1d8aba",
   "metadata": {},
   "outputs": [
    {
     "data": {
      "text/plain": [
       "['No', 'Yes']\n",
       "Categories (2, object): ['No', 'Yes']"
      ]
     },
     "execution_count": 39,
     "metadata": {},
     "output_type": "execute_result"
    }
   ],
   "source": [
    "df['Other_Cancer'].unique()"
   ]
  },
  {
   "cell_type": "code",
   "execution_count": 40,
   "id": "ba0ac0da",
   "metadata": {},
   "outputs": [
    {
     "data": {
      "text/plain": [
       "['No', 'Yes']\n",
       "Categories (2, object): ['No', 'Yes']"
      ]
     },
     "execution_count": 40,
     "metadata": {},
     "output_type": "execute_result"
    }
   ],
   "source": [
    "df['Depression'].unique()"
   ]
  },
  {
   "cell_type": "code",
   "execution_count": 41,
   "id": "a12a32f4",
   "metadata": {},
   "outputs": [
    {
     "data": {
      "text/plain": [
       "['No', 'Yes', 'No, pre-diabetes or borderline diabetes', 'Yes, but female told only during pregnancy']\n",
       "Categories (4, object): ['No', 'No, pre-diabetes or borderline diabetes', 'Yes', 'Yes, but female told only during pregnancy']"
      ]
     },
     "execution_count": 41,
     "metadata": {},
     "output_type": "execute_result"
    }
   ],
   "source": [
    "df['Diabetes'].unique()"
   ]
  },
  {
   "cell_type": "code",
   "execution_count": 42,
   "id": "cada7727",
   "metadata": {},
   "outputs": [
    {
     "data": {
      "text/plain": [
       "['Yes', 'No']\n",
       "Categories (2, object): ['No', 'Yes']"
      ]
     },
     "execution_count": 42,
     "metadata": {},
     "output_type": "execute_result"
    }
   ],
   "source": [
    "df['Arthritis'].unique()"
   ]
  },
  {
   "cell_type": "code",
   "execution_count": 43,
   "id": "b07a97cc",
   "metadata": {},
   "outputs": [
    {
     "data": {
      "text/plain": [
       "['Female', 'Male']\n",
       "Categories (2, object): ['Female', 'Male']"
      ]
     },
     "execution_count": 43,
     "metadata": {},
     "output_type": "execute_result"
    }
   ],
   "source": [
    "df['Sex'].unique()"
   ]
  },
  {
   "cell_type": "code",
   "execution_count": 44,
   "id": "51777d4e",
   "metadata": {},
   "outputs": [
    {
     "data": {
      "text/plain": [
       "['18-24', '25-29', '30-34', '35-39', '40-44', ..., '60-64', '65-69', '70-74', '75-79', '80+']\n",
       "Length: 13\n",
       "Categories (13, object): ['18-24', '25-29', '30-34', '35-39', ..., '65-69', '70-74', '75-79', '80+']"
      ]
     },
     "execution_count": 44,
     "metadata": {},
     "output_type": "execute_result"
    }
   ],
   "source": [
    "df['Age_Category'].unique().sort_values()"
   ]
  },
  {
   "cell_type": "code",
   "execution_count": 45,
   "id": "7a552e81",
   "metadata": {},
   "outputs": [
    {
     "data": {
      "text/plain": [
       "['Yes', 'No']\n",
       "Categories (2, object): ['No', 'Yes']"
      ]
     },
     "execution_count": 45,
     "metadata": {},
     "output_type": "execute_result"
    }
   ],
   "source": [
    "df['Smoking_History'].unique()"
   ]
  },
  {
   "cell_type": "code",
   "execution_count": 46,
   "id": "543f0c4f",
   "metadata": {},
   "outputs": [
    {
     "data": {
      "text/plain": [
       "array(['March', 'February', 'October', 'August', 'December', 'June',\n",
       "       'May', 'November', 'September', 'April', 'July', 'January'],\n",
       "      dtype=object)"
      ]
     },
     "execution_count": 46,
     "metadata": {},
     "output_type": "execute_result"
    }
   ],
   "source": [
    "df['Month'].unique()"
   ]
  },
  {
   "cell_type": "code",
   "execution_count": 47,
   "id": "0dd1143e",
   "metadata": {},
   "outputs": [
    {
     "data": {
      "text/html": [
       "<div>\n",
       "<style scoped>\n",
       "    .dataframe tbody tr th:only-of-type {\n",
       "        vertical-align: middle;\n",
       "    }\n",
       "\n",
       "    .dataframe tbody tr th {\n",
       "        vertical-align: top;\n",
       "    }\n",
       "\n",
       "    .dataframe thead th {\n",
       "        text-align: right;\n",
       "    }\n",
       "</style>\n",
       "<table border=\"1\" class=\"dataframe\">\n",
       "  <thead>\n",
       "    <tr style=\"text-align: right;\">\n",
       "      <th></th>\n",
       "      <th>SurveyID</th>\n",
       "      <th>Height</th>\n",
       "      <th>Weight</th>\n",
       "      <th>BMI</th>\n",
       "      <th>Alcohol_Consumption</th>\n",
       "      <th>Fruit_Consumption</th>\n",
       "      <th>Green_Vegetables_Consumption</th>\n",
       "      <th>FriedPotato_Consumption</th>\n",
       "    </tr>\n",
       "  </thead>\n",
       "  <tbody>\n",
       "    <tr>\n",
       "      <th>count</th>\n",
       "      <td>308852.000000</td>\n",
       "      <td>308852.000000</td>\n",
       "      <td>308852.000000</td>\n",
       "      <td>308852.000000</td>\n",
       "      <td>308852.000000</td>\n",
       "      <td>308852.000000</td>\n",
       "      <td>308852.000000</td>\n",
       "      <td>308852.000000</td>\n",
       "    </tr>\n",
       "    <tr>\n",
       "      <th>mean</th>\n",
       "      <td>186583.499440</td>\n",
       "      <td>170.617772</td>\n",
       "      <td>83.592201</td>\n",
       "      <td>28.626219</td>\n",
       "      <td>5.096386</td>\n",
       "      <td>29.835374</td>\n",
       "      <td>15.110500</td>\n",
       "      <td>6.296650</td>\n",
       "    </tr>\n",
       "    <tr>\n",
       "      <th>std</th>\n",
       "      <td>89158.037977</td>\n",
       "      <td>10.702305</td>\n",
       "      <td>21.390893</td>\n",
       "      <td>6.522342</td>\n",
       "      <td>8.199784</td>\n",
       "      <td>24.875722</td>\n",
       "      <td>14.926268</td>\n",
       "      <td>8.582971</td>\n",
       "    </tr>\n",
       "    <tr>\n",
       "      <th>min</th>\n",
       "      <td>32156.000000</td>\n",
       "      <td>91.000000</td>\n",
       "      <td>24.950000</td>\n",
       "      <td>12.020000</td>\n",
       "      <td>0.000000</td>\n",
       "      <td>0.000000</td>\n",
       "      <td>0.000000</td>\n",
       "      <td>0.000000</td>\n",
       "    </tr>\n",
       "    <tr>\n",
       "      <th>25%</th>\n",
       "      <td>109370.750000</td>\n",
       "      <td>163.000000</td>\n",
       "      <td>68.040000</td>\n",
       "      <td>24.210000</td>\n",
       "      <td>0.000000</td>\n",
       "      <td>12.000000</td>\n",
       "      <td>4.000000</td>\n",
       "      <td>2.000000</td>\n",
       "    </tr>\n",
       "    <tr>\n",
       "      <th>50%</th>\n",
       "      <td>186583.500000</td>\n",
       "      <td>170.000000</td>\n",
       "      <td>81.650000</td>\n",
       "      <td>27.440000</td>\n",
       "      <td>1.000000</td>\n",
       "      <td>30.000000</td>\n",
       "      <td>12.000000</td>\n",
       "      <td>4.000000</td>\n",
       "    </tr>\n",
       "    <tr>\n",
       "      <th>75%</th>\n",
       "      <td>263796.250000</td>\n",
       "      <td>178.000000</td>\n",
       "      <td>95.250000</td>\n",
       "      <td>31.850000</td>\n",
       "      <td>6.000000</td>\n",
       "      <td>30.000000</td>\n",
       "      <td>20.000000</td>\n",
       "      <td>8.000000</td>\n",
       "    </tr>\n",
       "    <tr>\n",
       "      <th>max</th>\n",
       "      <td>341009.000000</td>\n",
       "      <td>600.000000</td>\n",
       "      <td>750.000000</td>\n",
       "      <td>99.330000</td>\n",
       "      <td>30.000000</td>\n",
       "      <td>120.000000</td>\n",
       "      <td>128.000000</td>\n",
       "      <td>128.000000</td>\n",
       "    </tr>\n",
       "  </tbody>\n",
       "</table>\n",
       "</div>"
      ],
      "text/plain": [
       "            SurveyID         Height         Weight            BMI  \\\n",
       "count  308852.000000  308852.000000  308852.000000  308852.000000   \n",
       "mean   186583.499440     170.617772      83.592201      28.626219   \n",
       "std     89158.037977      10.702305      21.390893       6.522342   \n",
       "min     32156.000000      91.000000      24.950000      12.020000   \n",
       "25%    109370.750000     163.000000      68.040000      24.210000   \n",
       "50%    186583.500000     170.000000      81.650000      27.440000   \n",
       "75%    263796.250000     178.000000      95.250000      31.850000   \n",
       "max    341009.000000     600.000000     750.000000      99.330000   \n",
       "\n",
       "       Alcohol_Consumption  Fruit_Consumption  Green_Vegetables_Consumption  \\\n",
       "count        308852.000000      308852.000000                 308852.000000   \n",
       "mean              5.096386          29.835374                     15.110500   \n",
       "std               8.199784          24.875722                     14.926268   \n",
       "min               0.000000           0.000000                      0.000000   \n",
       "25%               0.000000          12.000000                      4.000000   \n",
       "50%               1.000000          30.000000                     12.000000   \n",
       "75%               6.000000          30.000000                     20.000000   \n",
       "max              30.000000         120.000000                    128.000000   \n",
       "\n",
       "       FriedPotato_Consumption  \n",
       "count            308852.000000  \n",
       "mean                  6.296650  \n",
       "std                   8.582971  \n",
       "min                   0.000000  \n",
       "25%                   2.000000  \n",
       "50%                   4.000000  \n",
       "75%                   8.000000  \n",
       "max                 128.000000  "
      ]
     },
     "execution_count": 47,
     "metadata": {},
     "output_type": "execute_result"
    }
   ],
   "source": [
    "df.describe()"
   ]
  },
  {
   "cell_type": "code",
   "execution_count": 48,
   "id": "7139d953",
   "metadata": {},
   "outputs": [
    {
     "data": {
      "text/html": [
       "<div>\n",
       "<style scoped>\n",
       "    .dataframe tbody tr th:only-of-type {\n",
       "        vertical-align: middle;\n",
       "    }\n",
       "\n",
       "    .dataframe tbody tr th {\n",
       "        vertical-align: top;\n",
       "    }\n",
       "\n",
       "    .dataframe thead th {\n",
       "        text-align: right;\n",
       "    }\n",
       "</style>\n",
       "<table border=\"1\" class=\"dataframe\">\n",
       "  <thead>\n",
       "    <tr style=\"text-align: right;\">\n",
       "      <th></th>\n",
       "      <th>SurveyID</th>\n",
       "      <th>Date</th>\n",
       "      <th>General_Health</th>\n",
       "      <th>Checkup</th>\n",
       "      <th>Exercise</th>\n",
       "      <th>Heart_Disease</th>\n",
       "      <th>Skin_Cancer</th>\n",
       "      <th>Other_Cancer</th>\n",
       "      <th>Depression</th>\n",
       "      <th>Diabetes</th>\n",
       "      <th>Arthritis</th>\n",
       "      <th>Sex</th>\n",
       "      <th>Age_Category</th>\n",
       "      <th>Height</th>\n",
       "      <th>Weight</th>\n",
       "      <th>BMI</th>\n",
       "      <th>Smoking_History</th>\n",
       "      <th>Alcohol_Consumption</th>\n",
       "      <th>Fruit_Consumption</th>\n",
       "      <th>Green_Vegetables_Consumption</th>\n",
       "      <th>FriedPotato_Consumption</th>\n",
       "      <th>Month</th>\n",
       "    </tr>\n",
       "  </thead>\n",
       "  <tbody>\n",
       "    <tr>\n",
       "      <th>262919</th>\n",
       "      <td>295070</td>\n",
       "      <td>2022-08-24</td>\n",
       "      <td>VeryGood</td>\n",
       "      <td>Within the past year</td>\n",
       "      <td>Yes</td>\n",
       "      <td>No</td>\n",
       "      <td>No</td>\n",
       "      <td>No</td>\n",
       "      <td>No</td>\n",
       "      <td>No</td>\n",
       "      <td>No</td>\n",
       "      <td>Female</td>\n",
       "      <td>60-64</td>\n",
       "      <td>600.0</td>\n",
       "      <td>54.43</td>\n",
       "      <td>19.37</td>\n",
       "      <td>No</td>\n",
       "      <td>0</td>\n",
       "      <td>60</td>\n",
       "      <td>2</td>\n",
       "      <td>0</td>\n",
       "      <td>August</td>\n",
       "    </tr>\n",
       "  </tbody>\n",
       "</table>\n",
       "</div>"
      ],
      "text/plain": [
       "        SurveyID       Date General_Health               Checkup Exercise  \\\n",
       "262919    295070 2022-08-24       VeryGood  Within the past year      Yes   \n",
       "\n",
       "       Heart_Disease Skin_Cancer Other_Cancer Depression Diabetes Arthritis  \\\n",
       "262919            No          No           No         No       No        No   \n",
       "\n",
       "           Sex Age_Category  Height  Weight    BMI Smoking_History  \\\n",
       "262919  Female        60-64   600.0   54.43  19.37              No   \n",
       "\n",
       "        Alcohol_Consumption  Fruit_Consumption  Green_Vegetables_Consumption  \\\n",
       "262919                    0                 60                             2   \n",
       "\n",
       "        FriedPotato_Consumption   Month  \n",
       "262919                        0  August  "
      ]
     },
     "execution_count": 48,
     "metadata": {},
     "output_type": "execute_result"
    }
   ],
   "source": [
    "df[df['Height']==600]"
   ]
  },
  {
   "cell_type": "code",
   "execution_count": 49,
   "id": "a38e4cd9",
   "metadata": {},
   "outputs": [
    {
     "data": {
      "text/html": [
       "<div>\n",
       "<style scoped>\n",
       "    .dataframe tbody tr th:only-of-type {\n",
       "        vertical-align: middle;\n",
       "    }\n",
       "\n",
       "    .dataframe tbody tr th {\n",
       "        vertical-align: top;\n",
       "    }\n",
       "\n",
       "    .dataframe thead th {\n",
       "        text-align: right;\n",
       "    }\n",
       "</style>\n",
       "<table border=\"1\" class=\"dataframe\">\n",
       "  <thead>\n",
       "    <tr style=\"text-align: right;\">\n",
       "      <th></th>\n",
       "      <th>SurveyID</th>\n",
       "      <th>Date</th>\n",
       "      <th>General_Health</th>\n",
       "      <th>Checkup</th>\n",
       "      <th>Exercise</th>\n",
       "      <th>Heart_Disease</th>\n",
       "      <th>Skin_Cancer</th>\n",
       "      <th>Other_Cancer</th>\n",
       "      <th>Depression</th>\n",
       "      <th>Diabetes</th>\n",
       "      <th>Arthritis</th>\n",
       "      <th>Sex</th>\n",
       "      <th>Age_Category</th>\n",
       "      <th>Height</th>\n",
       "      <th>Weight</th>\n",
       "      <th>BMI</th>\n",
       "      <th>Smoking_History</th>\n",
       "      <th>Alcohol_Consumption</th>\n",
       "      <th>Fruit_Consumption</th>\n",
       "      <th>Green_Vegetables_Consumption</th>\n",
       "      <th>FriedPotato_Consumption</th>\n",
       "      <th>Month</th>\n",
       "    </tr>\n",
       "  </thead>\n",
       "  <tbody>\n",
       "    <tr>\n",
       "      <th>161754</th>\n",
       "      <td>193908</td>\n",
       "      <td>2022-01-12</td>\n",
       "      <td>VeryGood</td>\n",
       "      <td>Within the past year</td>\n",
       "      <td>Yes</td>\n",
       "      <td>No</td>\n",
       "      <td>No</td>\n",
       "      <td>No</td>\n",
       "      <td>No</td>\n",
       "      <td>No</td>\n",
       "      <td>Yes</td>\n",
       "      <td>Female</td>\n",
       "      <td>65-69</td>\n",
       "      <td>500.0</td>\n",
       "      <td>99.79</td>\n",
       "      <td>42.97</td>\n",
       "      <td>No</td>\n",
       "      <td>0</td>\n",
       "      <td>15</td>\n",
       "      <td>5</td>\n",
       "      <td>3</td>\n",
       "      <td>January</td>\n",
       "    </tr>\n",
       "  </tbody>\n",
       "</table>\n",
       "</div>"
      ],
      "text/plain": [
       "        SurveyID       Date General_Health               Checkup Exercise  \\\n",
       "161754    193908 2022-01-12       VeryGood  Within the past year      Yes   \n",
       "\n",
       "       Heart_Disease Skin_Cancer Other_Cancer Depression Diabetes Arthritis  \\\n",
       "161754            No          No           No         No       No       Yes   \n",
       "\n",
       "           Sex Age_Category  Height  Weight    BMI Smoking_History  \\\n",
       "161754  Female        65-69   500.0   99.79  42.97              No   \n",
       "\n",
       "        Alcohol_Consumption  Fruit_Consumption  Green_Vegetables_Consumption  \\\n",
       "161754                    0                 15                             5   \n",
       "\n",
       "        FriedPotato_Consumption    Month  \n",
       "161754                        3  January  "
      ]
     },
     "execution_count": 49,
     "metadata": {},
     "output_type": "execute_result"
    }
   ],
   "source": [
    "df[df['Height']==500]"
   ]
  },
  {
   "cell_type": "code",
   "execution_count": 50,
   "id": "b317a5a3",
   "metadata": {},
   "outputs": [],
   "source": [
    "df=df.drop(index=161754,axis=0)\n",
    "df=df.drop(index=262919,axis=0)"
   ]
  },
  {
   "cell_type": "code",
   "execution_count": 51,
   "id": "d0b7b260",
   "metadata": {},
   "outputs": [
    {
     "data": {
      "text/html": [
       "<div>\n",
       "<style scoped>\n",
       "    .dataframe tbody tr th:only-of-type {\n",
       "        vertical-align: middle;\n",
       "    }\n",
       "\n",
       "    .dataframe tbody tr th {\n",
       "        vertical-align: top;\n",
       "    }\n",
       "\n",
       "    .dataframe thead th {\n",
       "        text-align: right;\n",
       "    }\n",
       "</style>\n",
       "<table border=\"1\" class=\"dataframe\">\n",
       "  <thead>\n",
       "    <tr style=\"text-align: right;\">\n",
       "      <th></th>\n",
       "      <th>SurveyID</th>\n",
       "      <th>Date</th>\n",
       "      <th>General_Health</th>\n",
       "      <th>Checkup</th>\n",
       "      <th>Exercise</th>\n",
       "      <th>Heart_Disease</th>\n",
       "      <th>Skin_Cancer</th>\n",
       "      <th>Other_Cancer</th>\n",
       "      <th>Depression</th>\n",
       "      <th>Diabetes</th>\n",
       "      <th>Arthritis</th>\n",
       "      <th>Sex</th>\n",
       "      <th>Age_Category</th>\n",
       "      <th>Height</th>\n",
       "      <th>Weight</th>\n",
       "      <th>BMI</th>\n",
       "      <th>Smoking_History</th>\n",
       "      <th>Alcohol_Consumption</th>\n",
       "      <th>Fruit_Consumption</th>\n",
       "      <th>Green_Vegetables_Consumption</th>\n",
       "      <th>FriedPotato_Consumption</th>\n",
       "      <th>Month</th>\n",
       "    </tr>\n",
       "  </thead>\n",
       "  <tbody>\n",
       "    <tr>\n",
       "      <th>161761</th>\n",
       "      <td>193915</td>\n",
       "      <td>2022-01-11</td>\n",
       "      <td>Excellent</td>\n",
       "      <td>Within the past 5 years</td>\n",
       "      <td>Yes</td>\n",
       "      <td>No</td>\n",
       "      <td>No</td>\n",
       "      <td>No</td>\n",
       "      <td>No</td>\n",
       "      <td>No</td>\n",
       "      <td>No</td>\n",
       "      <td>Male</td>\n",
       "      <td>60-64</td>\n",
       "      <td>173.0</td>\n",
       "      <td>750.0</td>\n",
       "      <td>26.61</td>\n",
       "      <td>Yes</td>\n",
       "      <td>4</td>\n",
       "      <td>12</td>\n",
       "      <td>4</td>\n",
       "      <td>4</td>\n",
       "      <td>January</td>\n",
       "    </tr>\n",
       "  </tbody>\n",
       "</table>\n",
       "</div>"
      ],
      "text/plain": [
       "        SurveyID       Date General_Health                  Checkup Exercise  \\\n",
       "161761    193915 2022-01-11      Excellent  Within the past 5 years      Yes   \n",
       "\n",
       "       Heart_Disease Skin_Cancer Other_Cancer Depression Diabetes Arthritis  \\\n",
       "161761            No          No           No         No       No        No   \n",
       "\n",
       "         Sex Age_Category  Height  Weight    BMI Smoking_History  \\\n",
       "161761  Male        60-64   173.0   750.0  26.61             Yes   \n",
       "\n",
       "        Alcohol_Consumption  Fruit_Consumption  Green_Vegetables_Consumption  \\\n",
       "161761                    4                 12                             4   \n",
       "\n",
       "        FriedPotato_Consumption    Month  \n",
       "161761                        4  January  "
      ]
     },
     "execution_count": 51,
     "metadata": {},
     "output_type": "execute_result"
    }
   ],
   "source": [
    "df[df['Weight']==750]"
   ]
  },
  {
   "cell_type": "code",
   "execution_count": 52,
   "id": "7d65ee20",
   "metadata": {},
   "outputs": [
    {
     "data": {
      "text/html": [
       "<div>\n",
       "<style scoped>\n",
       "    .dataframe tbody tr th:only-of-type {\n",
       "        vertical-align: middle;\n",
       "    }\n",
       "\n",
       "    .dataframe tbody tr th {\n",
       "        vertical-align: top;\n",
       "    }\n",
       "\n",
       "    .dataframe thead th {\n",
       "        text-align: right;\n",
       "    }\n",
       "</style>\n",
       "<table border=\"1\" class=\"dataframe\">\n",
       "  <thead>\n",
       "    <tr style=\"text-align: right;\">\n",
       "      <th></th>\n",
       "      <th>SurveyID</th>\n",
       "      <th>Date</th>\n",
       "      <th>General_Health</th>\n",
       "      <th>Checkup</th>\n",
       "      <th>Exercise</th>\n",
       "      <th>Heart_Disease</th>\n",
       "      <th>Skin_Cancer</th>\n",
       "      <th>Other_Cancer</th>\n",
       "      <th>Depression</th>\n",
       "      <th>Diabetes</th>\n",
       "      <th>Arthritis</th>\n",
       "      <th>Sex</th>\n",
       "      <th>Age_Category</th>\n",
       "      <th>Height</th>\n",
       "      <th>Weight</th>\n",
       "      <th>BMI</th>\n",
       "      <th>Smoking_History</th>\n",
       "      <th>Alcohol_Consumption</th>\n",
       "      <th>Fruit_Consumption</th>\n",
       "      <th>Green_Vegetables_Consumption</th>\n",
       "      <th>FriedPotato_Consumption</th>\n",
       "      <th>Month</th>\n",
       "    </tr>\n",
       "  </thead>\n",
       "  <tbody>\n",
       "    <tr>\n",
       "      <th>14</th>\n",
       "      <td>32170</td>\n",
       "      <td>2022-03-11</td>\n",
       "      <td>Excellent</td>\n",
       "      <td>Within the past 2 years</td>\n",
       "      <td>Yes</td>\n",
       "      <td>No</td>\n",
       "      <td>No</td>\n",
       "      <td>No</td>\n",
       "      <td>No</td>\n",
       "      <td>No</td>\n",
       "      <td>No</td>\n",
       "      <td>Female</td>\n",
       "      <td>70-74</td>\n",
       "      <td>152.0</td>\n",
       "      <td>516.0</td>\n",
       "      <td>22.46</td>\n",
       "      <td>No</td>\n",
       "      <td>0</td>\n",
       "      <td>30</td>\n",
       "      <td>4</td>\n",
       "      <td>0</td>\n",
       "      <td>March</td>\n",
       "    </tr>\n",
       "  </tbody>\n",
       "</table>\n",
       "</div>"
      ],
      "text/plain": [
       "    SurveyID       Date General_Health                  Checkup Exercise  \\\n",
       "14     32170 2022-03-11      Excellent  Within the past 2 years      Yes   \n",
       "\n",
       "   Heart_Disease Skin_Cancer Other_Cancer Depression Diabetes Arthritis  \\\n",
       "14            No          No           No         No       No        No   \n",
       "\n",
       "       Sex Age_Category  Height  Weight    BMI Smoking_History  \\\n",
       "14  Female        70-74   152.0   516.0  22.46              No   \n",
       "\n",
       "    Alcohol_Consumption  Fruit_Consumption  Green_Vegetables_Consumption  \\\n",
       "14                    0                 30                             4   \n",
       "\n",
       "    FriedPotato_Consumption  Month  \n",
       "14                        0  March  "
      ]
     },
     "execution_count": 52,
     "metadata": {},
     "output_type": "execute_result"
    }
   ],
   "source": [
    "df[df['Weight']==516]"
   ]
  },
  {
   "cell_type": "code",
   "execution_count": 53,
   "id": "7fc61862",
   "metadata": {},
   "outputs": [],
   "source": [
    "df=df.drop(index=161761,axis=0)\n",
    "df=df.drop(index=14,axis=0)"
   ]
  },
  {
   "cell_type": "code",
   "execution_count": 54,
   "id": "124eef43",
   "metadata": {},
   "outputs": [
    {
     "data": {
      "text/html": [
       "<div>\n",
       "<style scoped>\n",
       "    .dataframe tbody tr th:only-of-type {\n",
       "        vertical-align: middle;\n",
       "    }\n",
       "\n",
       "    .dataframe tbody tr th {\n",
       "        vertical-align: top;\n",
       "    }\n",
       "\n",
       "    .dataframe thead th {\n",
       "        text-align: right;\n",
       "    }\n",
       "</style>\n",
       "<table border=\"1\" class=\"dataframe\">\n",
       "  <thead>\n",
       "    <tr style=\"text-align: right;\">\n",
       "      <th></th>\n",
       "      <th>SurveyID</th>\n",
       "      <th>Height</th>\n",
       "      <th>Weight</th>\n",
       "      <th>BMI</th>\n",
       "      <th>Alcohol_Consumption</th>\n",
       "      <th>Fruit_Consumption</th>\n",
       "      <th>Green_Vegetables_Consumption</th>\n",
       "      <th>FriedPotato_Consumption</th>\n",
       "    </tr>\n",
       "  </thead>\n",
       "  <tbody>\n",
       "    <tr>\n",
       "      <th>count</th>\n",
       "      <td>308848.000000</td>\n",
       "      <td>308848.000000</td>\n",
       "      <td>308848.000000</td>\n",
       "      <td>308848.000000</td>\n",
       "      <td>308848.000000</td>\n",
       "      <td>308848.000000</td>\n",
       "      <td>308848.000000</td>\n",
       "      <td>308848.000000</td>\n",
       "    </tr>\n",
       "    <tr>\n",
       "      <th>mean</th>\n",
       "      <td>186583.600690</td>\n",
       "      <td>170.615367</td>\n",
       "      <td>83.588685</td>\n",
       "      <td>28.626229</td>\n",
       "      <td>5.096439</td>\n",
       "      <td>29.835382</td>\n",
       "      <td>15.110647</td>\n",
       "      <td>6.296709</td>\n",
       "    </tr>\n",
       "    <tr>\n",
       "      <th>std</th>\n",
       "      <td>89157.966732</td>\n",
       "      <td>10.657928</td>\n",
       "      <td>21.343132</td>\n",
       "      <td>6.522302</td>\n",
       "      <td>8.199821</td>\n",
       "      <td>24.875788</td>\n",
       "      <td>14.926308</td>\n",
       "      <td>8.583009</td>\n",
       "    </tr>\n",
       "    <tr>\n",
       "      <th>min</th>\n",
       "      <td>32156.000000</td>\n",
       "      <td>91.000000</td>\n",
       "      <td>24.950000</td>\n",
       "      <td>12.020000</td>\n",
       "      <td>0.000000</td>\n",
       "      <td>0.000000</td>\n",
       "      <td>0.000000</td>\n",
       "      <td>0.000000</td>\n",
       "    </tr>\n",
       "    <tr>\n",
       "      <th>25%</th>\n",
       "      <td>109370.750000</td>\n",
       "      <td>163.000000</td>\n",
       "      <td>68.040000</td>\n",
       "      <td>24.210000</td>\n",
       "      <td>0.000000</td>\n",
       "      <td>12.000000</td>\n",
       "      <td>4.000000</td>\n",
       "      <td>2.000000</td>\n",
       "    </tr>\n",
       "    <tr>\n",
       "      <th>50%</th>\n",
       "      <td>186582.500000</td>\n",
       "      <td>170.000000</td>\n",
       "      <td>81.650000</td>\n",
       "      <td>27.440000</td>\n",
       "      <td>1.000000</td>\n",
       "      <td>30.000000</td>\n",
       "      <td>12.000000</td>\n",
       "      <td>4.000000</td>\n",
       "    </tr>\n",
       "    <tr>\n",
       "      <th>75%</th>\n",
       "      <td>263796.250000</td>\n",
       "      <td>178.000000</td>\n",
       "      <td>95.250000</td>\n",
       "      <td>31.850000</td>\n",
       "      <td>6.000000</td>\n",
       "      <td>30.000000</td>\n",
       "      <td>20.000000</td>\n",
       "      <td>8.000000</td>\n",
       "    </tr>\n",
       "    <tr>\n",
       "      <th>max</th>\n",
       "      <td>341009.000000</td>\n",
       "      <td>241.000000</td>\n",
       "      <td>293.020000</td>\n",
       "      <td>99.330000</td>\n",
       "      <td>30.000000</td>\n",
       "      <td>120.000000</td>\n",
       "      <td>128.000000</td>\n",
       "      <td>128.000000</td>\n",
       "    </tr>\n",
       "  </tbody>\n",
       "</table>\n",
       "</div>"
      ],
      "text/plain": [
       "            SurveyID         Height         Weight            BMI  \\\n",
       "count  308848.000000  308848.000000  308848.000000  308848.000000   \n",
       "mean   186583.600690     170.615367      83.588685      28.626229   \n",
       "std     89157.966732      10.657928      21.343132       6.522302   \n",
       "min     32156.000000      91.000000      24.950000      12.020000   \n",
       "25%    109370.750000     163.000000      68.040000      24.210000   \n",
       "50%    186582.500000     170.000000      81.650000      27.440000   \n",
       "75%    263796.250000     178.000000      95.250000      31.850000   \n",
       "max    341009.000000     241.000000     293.020000      99.330000   \n",
       "\n",
       "       Alcohol_Consumption  Fruit_Consumption  Green_Vegetables_Consumption  \\\n",
       "count        308848.000000      308848.000000                 308848.000000   \n",
       "mean              5.096439          29.835382                     15.110647   \n",
       "std               8.199821          24.875788                     14.926308   \n",
       "min               0.000000           0.000000                      0.000000   \n",
       "25%               0.000000          12.000000                      4.000000   \n",
       "50%               1.000000          30.000000                     12.000000   \n",
       "75%               6.000000          30.000000                     20.000000   \n",
       "max              30.000000         120.000000                    128.000000   \n",
       "\n",
       "       FriedPotato_Consumption  \n",
       "count            308848.000000  \n",
       "mean                  6.296709  \n",
       "std                   8.583009  \n",
       "min                   0.000000  \n",
       "25%                   2.000000  \n",
       "50%                   4.000000  \n",
       "75%                   8.000000  \n",
       "max                 128.000000  "
      ]
     },
     "execution_count": 54,
     "metadata": {},
     "output_type": "execute_result"
    }
   ],
   "source": [
    "df.describe()"
   ]
  },
  {
   "cell_type": "code",
   "execution_count": 55,
   "id": "51cbe4ad",
   "metadata": {},
   "outputs": [
    {
     "data": {
      "text/plain": [
       "89361     293.02\n",
       "70800     285.76\n",
       "287506    283.50\n",
       "227584    274.42\n",
       "216850    274.42\n",
       "           ...  \n",
       "184827     27.22\n",
       "35951      26.76\n",
       "216246     26.31\n",
       "21369      25.40\n",
       "148352     24.95\n",
       "Name: Weight, Length: 308848, dtype: float64"
      ]
     },
     "execution_count": 55,
     "metadata": {},
     "output_type": "execute_result"
    }
   ],
   "source": [
    "df['Weight'].sort_values(ascending= False)"
   ]
  },
  {
   "cell_type": "code",
   "execution_count": 56,
   "id": "b21ef609",
   "metadata": {},
   "outputs": [],
   "source": [
    "q1=df['Height'].quantile(0.25)\n",
    "q3=df['Height'].quantile(0.75)\n"
   ]
  },
  {
   "cell_type": "code",
   "execution_count": 57,
   "id": "fd5e74c1",
   "metadata": {},
   "outputs": [
    {
     "name": "stdout",
     "output_type": "stream",
     "text": [
      "200.5 140.5\n"
     ]
    }
   ],
   "source": [
    "# IQR\n",
    "iqr= q3-q1\n",
    "upper= q3+1.5*iqr\n",
    "lower= q1-1.5*iqr\n",
    "print(upper,lower)"
   ]
  },
  {
   "cell_type": "code",
   "execution_count": 58,
   "id": "beb79403",
   "metadata": {},
   "outputs": [
    {
     "data": {
      "text/html": [
       "<div>\n",
       "<style scoped>\n",
       "    .dataframe tbody tr th:only-of-type {\n",
       "        vertical-align: middle;\n",
       "    }\n",
       "\n",
       "    .dataframe tbody tr th {\n",
       "        vertical-align: top;\n",
       "    }\n",
       "\n",
       "    .dataframe thead th {\n",
       "        text-align: right;\n",
       "    }\n",
       "</style>\n",
       "<table border=\"1\" class=\"dataframe\">\n",
       "  <thead>\n",
       "    <tr style=\"text-align: right;\">\n",
       "      <th></th>\n",
       "      <th>SurveyID</th>\n",
       "      <th>Date</th>\n",
       "      <th>General_Health</th>\n",
       "      <th>Checkup</th>\n",
       "      <th>Exercise</th>\n",
       "      <th>Heart_Disease</th>\n",
       "      <th>Skin_Cancer</th>\n",
       "      <th>Other_Cancer</th>\n",
       "      <th>Depression</th>\n",
       "      <th>Diabetes</th>\n",
       "      <th>Arthritis</th>\n",
       "      <th>Sex</th>\n",
       "      <th>Age_Category</th>\n",
       "      <th>Height</th>\n",
       "      <th>Weight</th>\n",
       "      <th>BMI</th>\n",
       "      <th>Smoking_History</th>\n",
       "      <th>Alcohol_Consumption</th>\n",
       "      <th>Fruit_Consumption</th>\n",
       "      <th>Green_Vegetables_Consumption</th>\n",
       "      <th>FriedPotato_Consumption</th>\n",
       "      <th>Month</th>\n",
       "    </tr>\n",
       "  </thead>\n",
       "  <tbody>\n",
       "    <tr>\n",
       "      <th>182</th>\n",
       "      <td>32337</td>\n",
       "      <td>2022-04-23</td>\n",
       "      <td>Good</td>\n",
       "      <td>Within the past year</td>\n",
       "      <td>Yes</td>\n",
       "      <td>No</td>\n",
       "      <td>Yes</td>\n",
       "      <td>No</td>\n",
       "      <td>No</td>\n",
       "      <td>No</td>\n",
       "      <td>No</td>\n",
       "      <td>Male</td>\n",
       "      <td>75-79</td>\n",
       "      <td>206.0</td>\n",
       "      <td>86.18</td>\n",
       "      <td>20.36</td>\n",
       "      <td>No</td>\n",
       "      <td>0</td>\n",
       "      <td>30</td>\n",
       "      <td>1</td>\n",
       "      <td>0</td>\n",
       "      <td>April</td>\n",
       "    </tr>\n",
       "    <tr>\n",
       "      <th>1735</th>\n",
       "      <td>33890</td>\n",
       "      <td>2022-04-04</td>\n",
       "      <td>Good</td>\n",
       "      <td>Within the past year</td>\n",
       "      <td>Yes</td>\n",
       "      <td>No</td>\n",
       "      <td>No</td>\n",
       "      <td>No</td>\n",
       "      <td>No</td>\n",
       "      <td>Yes</td>\n",
       "      <td>No</td>\n",
       "      <td>Male</td>\n",
       "      <td>40-44</td>\n",
       "      <td>201.0</td>\n",
       "      <td>131.54</td>\n",
       "      <td>32.67</td>\n",
       "      <td>Yes</td>\n",
       "      <td>0</td>\n",
       "      <td>16</td>\n",
       "      <td>30</td>\n",
       "      <td>4</td>\n",
       "      <td>April</td>\n",
       "    </tr>\n",
       "    <tr>\n",
       "      <th>1765</th>\n",
       "      <td>33920</td>\n",
       "      <td>2022-05-17</td>\n",
       "      <td>Good</td>\n",
       "      <td>Within the past 5 years</td>\n",
       "      <td>Yes</td>\n",
       "      <td>No</td>\n",
       "      <td>No</td>\n",
       "      <td>No</td>\n",
       "      <td>Yes</td>\n",
       "      <td>No</td>\n",
       "      <td>No</td>\n",
       "      <td>Male</td>\n",
       "      <td>25-29</td>\n",
       "      <td>218.0</td>\n",
       "      <td>72.57</td>\n",
       "      <td>15.21</td>\n",
       "      <td>No</td>\n",
       "      <td>0</td>\n",
       "      <td>0</td>\n",
       "      <td>20</td>\n",
       "      <td>99</td>\n",
       "      <td>May</td>\n",
       "    </tr>\n",
       "    <tr>\n",
       "      <th>1982</th>\n",
       "      <td>34137</td>\n",
       "      <td>2022-02-12</td>\n",
       "      <td>Excellent</td>\n",
       "      <td>Within the past year</td>\n",
       "      <td>Yes</td>\n",
       "      <td>No</td>\n",
       "      <td>Yes</td>\n",
       "      <td>No</td>\n",
       "      <td>No</td>\n",
       "      <td>No</td>\n",
       "      <td>Yes</td>\n",
       "      <td>Male</td>\n",
       "      <td>65-69</td>\n",
       "      <td>201.0</td>\n",
       "      <td>132.45</td>\n",
       "      <td>32.89</td>\n",
       "      <td>Yes</td>\n",
       "      <td>2</td>\n",
       "      <td>8</td>\n",
       "      <td>12</td>\n",
       "      <td>4</td>\n",
       "      <td>February</td>\n",
       "    </tr>\n",
       "    <tr>\n",
       "      <th>2292</th>\n",
       "      <td>34447</td>\n",
       "      <td>2022-08-22</td>\n",
       "      <td>Excellent</td>\n",
       "      <td>Within the past year</td>\n",
       "      <td>Yes</td>\n",
       "      <td>No</td>\n",
       "      <td>No</td>\n",
       "      <td>No</td>\n",
       "      <td>No</td>\n",
       "      <td>No</td>\n",
       "      <td>No</td>\n",
       "      <td>Male</td>\n",
       "      <td>40-44</td>\n",
       "      <td>203.0</td>\n",
       "      <td>122.47</td>\n",
       "      <td>29.66</td>\n",
       "      <td>No</td>\n",
       "      <td>1</td>\n",
       "      <td>3</td>\n",
       "      <td>4</td>\n",
       "      <td>15</td>\n",
       "      <td>August</td>\n",
       "    </tr>\n",
       "    <tr>\n",
       "      <th>...</th>\n",
       "      <td>...</td>\n",
       "      <td>...</td>\n",
       "      <td>...</td>\n",
       "      <td>...</td>\n",
       "      <td>...</td>\n",
       "      <td>...</td>\n",
       "      <td>...</td>\n",
       "      <td>...</td>\n",
       "      <td>...</td>\n",
       "      <td>...</td>\n",
       "      <td>...</td>\n",
       "      <td>...</td>\n",
       "      <td>...</td>\n",
       "      <td>...</td>\n",
       "      <td>...</td>\n",
       "      <td>...</td>\n",
       "      <td>...</td>\n",
       "      <td>...</td>\n",
       "      <td>...</td>\n",
       "      <td>...</td>\n",
       "      <td>...</td>\n",
       "      <td>...</td>\n",
       "    </tr>\n",
       "    <tr>\n",
       "      <th>304200</th>\n",
       "      <td>336351</td>\n",
       "      <td>2022-05-10</td>\n",
       "      <td>Fair</td>\n",
       "      <td>5 or more years ago</td>\n",
       "      <td>No</td>\n",
       "      <td>No</td>\n",
       "      <td>No</td>\n",
       "      <td>No</td>\n",
       "      <td>No</td>\n",
       "      <td>No</td>\n",
       "      <td>No</td>\n",
       "      <td>Male</td>\n",
       "      <td>35-39</td>\n",
       "      <td>201.0</td>\n",
       "      <td>99.79</td>\n",
       "      <td>24.78</td>\n",
       "      <td>Yes</td>\n",
       "      <td>0</td>\n",
       "      <td>30</td>\n",
       "      <td>8</td>\n",
       "      <td>5</td>\n",
       "      <td>May</td>\n",
       "    </tr>\n",
       "    <tr>\n",
       "      <th>305529</th>\n",
       "      <td>337680</td>\n",
       "      <td>2022-03-29</td>\n",
       "      <td>Excellent</td>\n",
       "      <td>Within the past year</td>\n",
       "      <td>No</td>\n",
       "      <td>No</td>\n",
       "      <td>No</td>\n",
       "      <td>No</td>\n",
       "      <td>No</td>\n",
       "      <td>No</td>\n",
       "      <td>No</td>\n",
       "      <td>Male</td>\n",
       "      <td>18-24</td>\n",
       "      <td>203.0</td>\n",
       "      <td>58.97</td>\n",
       "      <td>14.28</td>\n",
       "      <td>No</td>\n",
       "      <td>0</td>\n",
       "      <td>16</td>\n",
       "      <td>30</td>\n",
       "      <td>4</td>\n",
       "      <td>March</td>\n",
       "    </tr>\n",
       "    <tr>\n",
       "      <th>306172</th>\n",
       "      <td>338323</td>\n",
       "      <td>2022-05-11</td>\n",
       "      <td>Excellent</td>\n",
       "      <td>Within the past year</td>\n",
       "      <td>No</td>\n",
       "      <td>No</td>\n",
       "      <td>No</td>\n",
       "      <td>No</td>\n",
       "      <td>No</td>\n",
       "      <td>No</td>\n",
       "      <td>No</td>\n",
       "      <td>Male</td>\n",
       "      <td>65-69</td>\n",
       "      <td>201.0</td>\n",
       "      <td>90.72</td>\n",
       "      <td>22.53</td>\n",
       "      <td>Yes</td>\n",
       "      <td>0</td>\n",
       "      <td>4</td>\n",
       "      <td>90</td>\n",
       "      <td>8</td>\n",
       "      <td>May</td>\n",
       "    </tr>\n",
       "    <tr>\n",
       "      <th>307102</th>\n",
       "      <td>339253</td>\n",
       "      <td>2022-07-14</td>\n",
       "      <td>Excellent</td>\n",
       "      <td>Within the past year</td>\n",
       "      <td>Yes</td>\n",
       "      <td>No</td>\n",
       "      <td>No</td>\n",
       "      <td>No</td>\n",
       "      <td>No</td>\n",
       "      <td>No</td>\n",
       "      <td>No</td>\n",
       "      <td>Male</td>\n",
       "      <td>25-29</td>\n",
       "      <td>206.0</td>\n",
       "      <td>122.47</td>\n",
       "      <td>28.93</td>\n",
       "      <td>No</td>\n",
       "      <td>6</td>\n",
       "      <td>30</td>\n",
       "      <td>12</td>\n",
       "      <td>0</td>\n",
       "      <td>July</td>\n",
       "    </tr>\n",
       "    <tr>\n",
       "      <th>308715</th>\n",
       "      <td>340866</td>\n",
       "      <td>2022-11-29</td>\n",
       "      <td>Excellent</td>\n",
       "      <td>Within the past year</td>\n",
       "      <td>Yes</td>\n",
       "      <td>No</td>\n",
       "      <td>No</td>\n",
       "      <td>No</td>\n",
       "      <td>No</td>\n",
       "      <td>No</td>\n",
       "      <td>No</td>\n",
       "      <td>Male</td>\n",
       "      <td>55-59</td>\n",
       "      <td>213.0</td>\n",
       "      <td>108.86</td>\n",
       "      <td>23.91</td>\n",
       "      <td>No</td>\n",
       "      <td>1</td>\n",
       "      <td>16</td>\n",
       "      <td>30</td>\n",
       "      <td>4</td>\n",
       "      <td>November</td>\n",
       "    </tr>\n",
       "  </tbody>\n",
       "</table>\n",
       "<p>602 rows × 22 columns</p>\n",
       "</div>"
      ],
      "text/plain": [
       "        SurveyID       Date General_Health                  Checkup Exercise  \\\n",
       "182        32337 2022-04-23           Good     Within the past year      Yes   \n",
       "1735       33890 2022-04-04           Good     Within the past year      Yes   \n",
       "1765       33920 2022-05-17           Good  Within the past 5 years      Yes   \n",
       "1982       34137 2022-02-12      Excellent     Within the past year      Yes   \n",
       "2292       34447 2022-08-22      Excellent     Within the past year      Yes   \n",
       "...          ...        ...            ...                      ...      ...   \n",
       "304200    336351 2022-05-10           Fair      5 or more years ago       No   \n",
       "305529    337680 2022-03-29      Excellent     Within the past year       No   \n",
       "306172    338323 2022-05-11      Excellent     Within the past year       No   \n",
       "307102    339253 2022-07-14      Excellent     Within the past year      Yes   \n",
       "308715    340866 2022-11-29      Excellent     Within the past year      Yes   \n",
       "\n",
       "       Heart_Disease Skin_Cancer Other_Cancer Depression Diabetes Arthritis  \\\n",
       "182               No         Yes           No         No       No        No   \n",
       "1735              No          No           No         No      Yes        No   \n",
       "1765              No          No           No        Yes       No        No   \n",
       "1982              No         Yes           No         No       No       Yes   \n",
       "2292              No          No           No         No       No        No   \n",
       "...              ...         ...          ...        ...      ...       ...   \n",
       "304200            No          No           No         No       No        No   \n",
       "305529            No          No           No         No       No        No   \n",
       "306172            No          No           No         No       No        No   \n",
       "307102            No          No           No         No       No        No   \n",
       "308715            No          No           No         No       No        No   \n",
       "\n",
       "         Sex Age_Category  Height  Weight    BMI Smoking_History  \\\n",
       "182     Male        75-79   206.0   86.18  20.36              No   \n",
       "1735    Male        40-44   201.0  131.54  32.67             Yes   \n",
       "1765    Male        25-29   218.0   72.57  15.21              No   \n",
       "1982    Male        65-69   201.0  132.45  32.89             Yes   \n",
       "2292    Male        40-44   203.0  122.47  29.66              No   \n",
       "...      ...          ...     ...     ...    ...             ...   \n",
       "304200  Male        35-39   201.0   99.79  24.78             Yes   \n",
       "305529  Male        18-24   203.0   58.97  14.28              No   \n",
       "306172  Male        65-69   201.0   90.72  22.53             Yes   \n",
       "307102  Male        25-29   206.0  122.47  28.93              No   \n",
       "308715  Male        55-59   213.0  108.86  23.91              No   \n",
       "\n",
       "        Alcohol_Consumption  Fruit_Consumption  Green_Vegetables_Consumption  \\\n",
       "182                       0                 30                             1   \n",
       "1735                      0                 16                            30   \n",
       "1765                      0                  0                            20   \n",
       "1982                      2                  8                            12   \n",
       "2292                      1                  3                             4   \n",
       "...                     ...                ...                           ...   \n",
       "304200                    0                 30                             8   \n",
       "305529                    0                 16                            30   \n",
       "306172                    0                  4                            90   \n",
       "307102                    6                 30                            12   \n",
       "308715                    1                 16                            30   \n",
       "\n",
       "        FriedPotato_Consumption     Month  \n",
       "182                           0     April  \n",
       "1735                          4     April  \n",
       "1765                         99       May  \n",
       "1982                          4  February  \n",
       "2292                         15    August  \n",
       "...                         ...       ...  \n",
       "304200                        5       May  \n",
       "305529                        4     March  \n",
       "306172                        8       May  \n",
       "307102                        0      July  \n",
       "308715                        4  November  \n",
       "\n",
       "[602 rows x 22 columns]"
      ]
     },
     "execution_count": 58,
     "metadata": {},
     "output_type": "execute_result"
    }
   ],
   "source": [
    "df[df['Height']>upper] "
   ]
  },
  {
   "cell_type": "code",
   "execution_count": 59,
   "id": "92aee7c2",
   "metadata": {},
   "outputs": [
    {
     "data": {
      "text/html": [
       "<div>\n",
       "<style scoped>\n",
       "    .dataframe tbody tr th:only-of-type {\n",
       "        vertical-align: middle;\n",
       "    }\n",
       "\n",
       "    .dataframe tbody tr th {\n",
       "        vertical-align: top;\n",
       "    }\n",
       "\n",
       "    .dataframe thead th {\n",
       "        text-align: right;\n",
       "    }\n",
       "</style>\n",
       "<table border=\"1\" class=\"dataframe\">\n",
       "  <thead>\n",
       "    <tr style=\"text-align: right;\">\n",
       "      <th></th>\n",
       "      <th>SurveyID</th>\n",
       "      <th>Date</th>\n",
       "      <th>General_Health</th>\n",
       "      <th>Checkup</th>\n",
       "      <th>Exercise</th>\n",
       "      <th>Heart_Disease</th>\n",
       "      <th>Skin_Cancer</th>\n",
       "      <th>Other_Cancer</th>\n",
       "      <th>Depression</th>\n",
       "      <th>Diabetes</th>\n",
       "      <th>Arthritis</th>\n",
       "      <th>Sex</th>\n",
       "      <th>Age_Category</th>\n",
       "      <th>Height</th>\n",
       "      <th>Weight</th>\n",
       "      <th>BMI</th>\n",
       "      <th>Smoking_History</th>\n",
       "      <th>Alcohol_Consumption</th>\n",
       "      <th>Fruit_Consumption</th>\n",
       "      <th>Green_Vegetables_Consumption</th>\n",
       "      <th>FriedPotato_Consumption</th>\n",
       "      <th>Month</th>\n",
       "    </tr>\n",
       "  </thead>\n",
       "  <tbody>\n",
       "    <tr>\n",
       "      <th>455</th>\n",
       "      <td>32610</td>\n",
       "      <td>2022-12-27</td>\n",
       "      <td>Fair</td>\n",
       "      <td>Within the past year</td>\n",
       "      <td>Yes</td>\n",
       "      <td>No</td>\n",
       "      <td>No</td>\n",
       "      <td>No</td>\n",
       "      <td>No</td>\n",
       "      <td>Yes</td>\n",
       "      <td>Yes</td>\n",
       "      <td>Female</td>\n",
       "      <td>65-69</td>\n",
       "      <td>140.0</td>\n",
       "      <td>99.34</td>\n",
       "      <td>50.90</td>\n",
       "      <td>No</td>\n",
       "      <td>0</td>\n",
       "      <td>30</td>\n",
       "      <td>8</td>\n",
       "      <td>1</td>\n",
       "      <td>December</td>\n",
       "    </tr>\n",
       "    <tr>\n",
       "      <th>577</th>\n",
       "      <td>32732</td>\n",
       "      <td>2022-12-01</td>\n",
       "      <td>Good</td>\n",
       "      <td>Within the past year</td>\n",
       "      <td>Yes</td>\n",
       "      <td>No</td>\n",
       "      <td>No</td>\n",
       "      <td>No</td>\n",
       "      <td>No</td>\n",
       "      <td>No</td>\n",
       "      <td>Yes</td>\n",
       "      <td>Female</td>\n",
       "      <td>75-79</td>\n",
       "      <td>135.0</td>\n",
       "      <td>33.11</td>\n",
       "      <td>18.27</td>\n",
       "      <td>Yes</td>\n",
       "      <td>0</td>\n",
       "      <td>30</td>\n",
       "      <td>8</td>\n",
       "      <td>8</td>\n",
       "      <td>December</td>\n",
       "    </tr>\n",
       "    <tr>\n",
       "      <th>2247</th>\n",
       "      <td>34402</td>\n",
       "      <td>2022-02-19</td>\n",
       "      <td>VeryGood</td>\n",
       "      <td>Within the past year</td>\n",
       "      <td>Yes</td>\n",
       "      <td>No</td>\n",
       "      <td>No</td>\n",
       "      <td>No</td>\n",
       "      <td>No</td>\n",
       "      <td>No</td>\n",
       "      <td>No</td>\n",
       "      <td>Female</td>\n",
       "      <td>55-59</td>\n",
       "      <td>124.0</td>\n",
       "      <td>58.97</td>\n",
       "      <td>38.07</td>\n",
       "      <td>No</td>\n",
       "      <td>0</td>\n",
       "      <td>20</td>\n",
       "      <td>4</td>\n",
       "      <td>0</td>\n",
       "      <td>February</td>\n",
       "    </tr>\n",
       "    <tr>\n",
       "      <th>2377</th>\n",
       "      <td>34532</td>\n",
       "      <td>2022-11-12</td>\n",
       "      <td>Good</td>\n",
       "      <td>Within the past year</td>\n",
       "      <td>Yes</td>\n",
       "      <td>No</td>\n",
       "      <td>No</td>\n",
       "      <td>No</td>\n",
       "      <td>No</td>\n",
       "      <td>No</td>\n",
       "      <td>Yes</td>\n",
       "      <td>Male</td>\n",
       "      <td>18-24</td>\n",
       "      <td>137.0</td>\n",
       "      <td>104.33</td>\n",
       "      <td>55.45</td>\n",
       "      <td>No</td>\n",
       "      <td>5</td>\n",
       "      <td>30</td>\n",
       "      <td>12</td>\n",
       "      <td>4</td>\n",
       "      <td>November</td>\n",
       "    </tr>\n",
       "    <tr>\n",
       "      <th>2485</th>\n",
       "      <td>34640</td>\n",
       "      <td>2022-04-28</td>\n",
       "      <td>Fair</td>\n",
       "      <td>Within the past year</td>\n",
       "      <td>Yes</td>\n",
       "      <td>No</td>\n",
       "      <td>No</td>\n",
       "      <td>No</td>\n",
       "      <td>No</td>\n",
       "      <td>Yes</td>\n",
       "      <td>Yes</td>\n",
       "      <td>Female</td>\n",
       "      <td>65-69</td>\n",
       "      <td>122.0</td>\n",
       "      <td>58.51</td>\n",
       "      <td>39.36</td>\n",
       "      <td>Yes</td>\n",
       "      <td>0</td>\n",
       "      <td>60</td>\n",
       "      <td>1</td>\n",
       "      <td>0</td>\n",
       "      <td>April</td>\n",
       "    </tr>\n",
       "    <tr>\n",
       "      <th>...</th>\n",
       "      <td>...</td>\n",
       "      <td>...</td>\n",
       "      <td>...</td>\n",
       "      <td>...</td>\n",
       "      <td>...</td>\n",
       "      <td>...</td>\n",
       "      <td>...</td>\n",
       "      <td>...</td>\n",
       "      <td>...</td>\n",
       "      <td>...</td>\n",
       "      <td>...</td>\n",
       "      <td>...</td>\n",
       "      <td>...</td>\n",
       "      <td>...</td>\n",
       "      <td>...</td>\n",
       "      <td>...</td>\n",
       "      <td>...</td>\n",
       "      <td>...</td>\n",
       "      <td>...</td>\n",
       "      <td>...</td>\n",
       "      <td>...</td>\n",
       "      <td>...</td>\n",
       "    </tr>\n",
       "    <tr>\n",
       "      <th>307745</th>\n",
       "      <td>339896</td>\n",
       "      <td>2022-02-15</td>\n",
       "      <td>Good</td>\n",
       "      <td>Within the past year</td>\n",
       "      <td>No</td>\n",
       "      <td>No</td>\n",
       "      <td>No</td>\n",
       "      <td>No</td>\n",
       "      <td>No</td>\n",
       "      <td>No</td>\n",
       "      <td>No</td>\n",
       "      <td>Female</td>\n",
       "      <td>18-24</td>\n",
       "      <td>140.0</td>\n",
       "      <td>45.36</td>\n",
       "      <td>23.24</td>\n",
       "      <td>No</td>\n",
       "      <td>0</td>\n",
       "      <td>12</td>\n",
       "      <td>0</td>\n",
       "      <td>12</td>\n",
       "      <td>February</td>\n",
       "    </tr>\n",
       "    <tr>\n",
       "      <th>307815</th>\n",
       "      <td>339966</td>\n",
       "      <td>2022-04-30</td>\n",
       "      <td>Good</td>\n",
       "      <td>Within the past year</td>\n",
       "      <td>Yes</td>\n",
       "      <td>No</td>\n",
       "      <td>No</td>\n",
       "      <td>No</td>\n",
       "      <td>No</td>\n",
       "      <td>No</td>\n",
       "      <td>No</td>\n",
       "      <td>Female</td>\n",
       "      <td>40-44</td>\n",
       "      <td>140.0</td>\n",
       "      <td>54.88</td>\n",
       "      <td>28.12</td>\n",
       "      <td>No</td>\n",
       "      <td>0</td>\n",
       "      <td>30</td>\n",
       "      <td>30</td>\n",
       "      <td>0</td>\n",
       "      <td>April</td>\n",
       "    </tr>\n",
       "    <tr>\n",
       "      <th>308228</th>\n",
       "      <td>340379</td>\n",
       "      <td>2022-03-11</td>\n",
       "      <td>Good</td>\n",
       "      <td>Within the past year</td>\n",
       "      <td>Yes</td>\n",
       "      <td>No</td>\n",
       "      <td>No</td>\n",
       "      <td>No</td>\n",
       "      <td>No</td>\n",
       "      <td>No</td>\n",
       "      <td>No</td>\n",
       "      <td>Male</td>\n",
       "      <td>75-79</td>\n",
       "      <td>135.0</td>\n",
       "      <td>65.77</td>\n",
       "      <td>36.29</td>\n",
       "      <td>Yes</td>\n",
       "      <td>0</td>\n",
       "      <td>60</td>\n",
       "      <td>30</td>\n",
       "      <td>0</td>\n",
       "      <td>March</td>\n",
       "    </tr>\n",
       "    <tr>\n",
       "      <th>308449</th>\n",
       "      <td>340600</td>\n",
       "      <td>2022-09-01</td>\n",
       "      <td>Poor</td>\n",
       "      <td>Within the past year</td>\n",
       "      <td>Yes</td>\n",
       "      <td>No</td>\n",
       "      <td>No</td>\n",
       "      <td>No</td>\n",
       "      <td>No</td>\n",
       "      <td>No, pre-diabetes or borderline diabetes</td>\n",
       "      <td>Yes</td>\n",
       "      <td>Female</td>\n",
       "      <td>75-79</td>\n",
       "      <td>140.0</td>\n",
       "      <td>74.84</td>\n",
       "      <td>38.35</td>\n",
       "      <td>No</td>\n",
       "      <td>4</td>\n",
       "      <td>30</td>\n",
       "      <td>30</td>\n",
       "      <td>8</td>\n",
       "      <td>September</td>\n",
       "    </tr>\n",
       "    <tr>\n",
       "      <th>308565</th>\n",
       "      <td>340716</td>\n",
       "      <td>2022-09-29</td>\n",
       "      <td>Fair</td>\n",
       "      <td>Within the past year</td>\n",
       "      <td>Yes</td>\n",
       "      <td>Yes</td>\n",
       "      <td>No</td>\n",
       "      <td>Yes</td>\n",
       "      <td>No</td>\n",
       "      <td>Yes</td>\n",
       "      <td>Yes</td>\n",
       "      <td>Female</td>\n",
       "      <td>65-69</td>\n",
       "      <td>135.0</td>\n",
       "      <td>102.06</td>\n",
       "      <td>56.32</td>\n",
       "      <td>No</td>\n",
       "      <td>0</td>\n",
       "      <td>60</td>\n",
       "      <td>60</td>\n",
       "      <td>0</td>\n",
       "      <td>September</td>\n",
       "    </tr>\n",
       "  </tbody>\n",
       "</table>\n",
       "<p>453 rows × 22 columns</p>\n",
       "</div>"
      ],
      "text/plain": [
       "        SurveyID       Date General_Health               Checkup Exercise  \\\n",
       "455        32610 2022-12-27           Fair  Within the past year      Yes   \n",
       "577        32732 2022-12-01           Good  Within the past year      Yes   \n",
       "2247       34402 2022-02-19       VeryGood  Within the past year      Yes   \n",
       "2377       34532 2022-11-12           Good  Within the past year      Yes   \n",
       "2485       34640 2022-04-28           Fair  Within the past year      Yes   \n",
       "...          ...        ...            ...                   ...      ...   \n",
       "307745    339896 2022-02-15           Good  Within the past year       No   \n",
       "307815    339966 2022-04-30           Good  Within the past year      Yes   \n",
       "308228    340379 2022-03-11           Good  Within the past year      Yes   \n",
       "308449    340600 2022-09-01           Poor  Within the past year      Yes   \n",
       "308565    340716 2022-09-29           Fair  Within the past year      Yes   \n",
       "\n",
       "       Heart_Disease Skin_Cancer Other_Cancer Depression  \\\n",
       "455               No          No           No         No   \n",
       "577               No          No           No         No   \n",
       "2247              No          No           No         No   \n",
       "2377              No          No           No         No   \n",
       "2485              No          No           No         No   \n",
       "...              ...         ...          ...        ...   \n",
       "307745            No          No           No         No   \n",
       "307815            No          No           No         No   \n",
       "308228            No          No           No         No   \n",
       "308449            No          No           No         No   \n",
       "308565           Yes          No          Yes         No   \n",
       "\n",
       "                                       Diabetes Arthritis     Sex  \\\n",
       "455                                         Yes       Yes  Female   \n",
       "577                                          No       Yes  Female   \n",
       "2247                                         No        No  Female   \n",
       "2377                                         No       Yes    Male   \n",
       "2485                                        Yes       Yes  Female   \n",
       "...                                         ...       ...     ...   \n",
       "307745                                       No        No  Female   \n",
       "307815                                       No        No  Female   \n",
       "308228                                       No        No    Male   \n",
       "308449  No, pre-diabetes or borderline diabetes       Yes  Female   \n",
       "308565                                      Yes       Yes  Female   \n",
       "\n",
       "       Age_Category  Height  Weight    BMI Smoking_History  \\\n",
       "455           65-69   140.0   99.34  50.90              No   \n",
       "577           75-79   135.0   33.11  18.27             Yes   \n",
       "2247          55-59   124.0   58.97  38.07              No   \n",
       "2377          18-24   137.0  104.33  55.45              No   \n",
       "2485          65-69   122.0   58.51  39.36             Yes   \n",
       "...             ...     ...     ...    ...             ...   \n",
       "307745        18-24   140.0   45.36  23.24              No   \n",
       "307815        40-44   140.0   54.88  28.12              No   \n",
       "308228        75-79   135.0   65.77  36.29             Yes   \n",
       "308449        75-79   140.0   74.84  38.35              No   \n",
       "308565        65-69   135.0  102.06  56.32              No   \n",
       "\n",
       "        Alcohol_Consumption  Fruit_Consumption  Green_Vegetables_Consumption  \\\n",
       "455                       0                 30                             8   \n",
       "577                       0                 30                             8   \n",
       "2247                      0                 20                             4   \n",
       "2377                      5                 30                            12   \n",
       "2485                      0                 60                             1   \n",
       "...                     ...                ...                           ...   \n",
       "307745                    0                 12                             0   \n",
       "307815                    0                 30                            30   \n",
       "308228                    0                 60                            30   \n",
       "308449                    4                 30                            30   \n",
       "308565                    0                 60                            60   \n",
       "\n",
       "        FriedPotato_Consumption      Month  \n",
       "455                           1   December  \n",
       "577                           8   December  \n",
       "2247                          0   February  \n",
       "2377                          4   November  \n",
       "2485                          0      April  \n",
       "...                         ...        ...  \n",
       "307745                       12   February  \n",
       "307815                        0      April  \n",
       "308228                        0      March  \n",
       "308449                        8  September  \n",
       "308565                        0  September  \n",
       "\n",
       "[453 rows x 22 columns]"
      ]
     },
     "execution_count": 59,
     "metadata": {},
     "output_type": "execute_result"
    }
   ],
   "source": [
    "df[df['Height']< lower]"
   ]
  },
  {
   "cell_type": "markdown",
   "id": "d3b2a96b",
   "metadata": {},
   "source": [
    "# Who are the Respondents?"
   ]
  },
  {
   "cell_type": "code",
   "execution_count": 60,
   "id": "ed6d89f1",
   "metadata": {},
   "outputs": [
    {
     "data": {
      "text/plain": [
       "Female    160191\n",
       "Male      148657\n",
       "Name: Sex, dtype: int64"
      ]
     },
     "execution_count": 60,
     "metadata": {},
     "output_type": "execute_result"
    }
   ],
   "source": [
    "# Count the number of responses by gender\n",
    "gender_preference = df['Sex'].value_counts()\n",
    "\n",
    "# Display the result\n",
    "gender_preference"
   ]
  },
  {
   "cell_type": "code",
   "execution_count": 61,
   "id": "2148dcd1",
   "metadata": {},
   "outputs": [
    {
     "data": {
      "image/png": "[encoded data removed]",
      "text/plain": [
       "<Figure size 1000x600 with 1 Axes>"
      ]
     },
     "metadata": {},
     "output_type": "display_data"
    }
   ],
   "source": [
    "# Create a bar plot for gender preference\n",
    "plt.figure(figsize=(10, 6))\n",
    "gender_preference.plot(kind='bar', color=['skyblue', 'pink'])\n",
    "plt.title('Survey Responses by Gender')\n",
    "plt.xlabel('Gender')\n",
    "plt.ylabel('Number of Responses')\n",
    "plt.xticks(rotation=0)\n",
    "plt.show()\n"
   ]
  },
  {
   "cell_type": "code",
   "execution_count": 62,
   "id": "445ef52a",
   "metadata": {},
   "outputs": [
    {
     "data": {
      "text/plain": [
       "18-24    18681\n",
       "25-29    15494\n",
       "30-34    18428\n",
       "35-39    20606\n",
       "40-44    21595\n",
       "45-49    20968\n",
       "50-54    25097\n",
       "55-59    28054\n",
       "60-64    32416\n",
       "65-69    33431\n",
       "70-74    31102\n",
       "75-79    20705\n",
       "80+      22271\n",
       "Name: Age_Category, dtype: int64"
      ]
     },
     "execution_count": 62,
     "metadata": {},
     "output_type": "execute_result"
    }
   ],
   "source": [
    "# Count the number of responses by age\n",
    "age_preference = df['Age_Category'].value_counts().sort_index()\n",
    "\n",
    "# Display the result\n",
    "age_preference\n"
   ]
  },
  {
   "cell_type": "code",
   "execution_count": 63,
   "id": "5675ecf7",
   "metadata": {},
   "outputs": [
    {
     "data": {
      "image/png": "[encoded data removed]",
      "text/plain": [
       "<Figure size 1000x600 with 1 Axes>"
      ]
     },
     "metadata": {},
     "output_type": "display_data"
    }
   ],
   "source": [
    "# Create a bar plot for gender preference\n",
    "plt.figure(figsize=(10, 6))\n",
    "age_preference.plot(kind='bar',color='crimson')\n",
    "plt.title('Survey Responses by Age')\n",
    "plt.xlabel('Age')\n",
    "plt.ylabel('Number of Responses')\n",
    "plt.xticks(rotation=0)\n",
    "plt.show()"
   ]
  },
  {
   "cell_type": "markdown",
   "id": "c8efefb3",
   "metadata": {},
   "source": [
    "# Distribution of people suffering from various diseases"
   ]
  },
  {
   "cell_type": "code",
   "execution_count": 64,
   "id": "5057f8ab",
   "metadata": {},
   "outputs": [
    {
     "data": {
      "text/plain": [
       "No     246947\n",
       "Yes     61901\n",
       "Name: Depression, dtype: int64"
      ]
     },
     "execution_count": 64,
     "metadata": {},
     "output_type": "execute_result"
    }
   ],
   "source": [
    "dep= df['Depression'].value_counts()\n",
    "\n",
    "dep"
   ]
  },
  {
   "cell_type": "code",
   "execution_count": 65,
   "id": "95a2a8d2",
   "metadata": {},
   "outputs": [
    {
     "data": {
      "text/plain": [
       "No     207778\n",
       "Yes    101070\n",
       "Name: Arthritis, dtype: int64"
      ]
     },
     "execution_count": 65,
     "metadata": {},
     "output_type": "execute_result"
    }
   ],
   "source": [
    "arth= df['Arthritis'].value_counts()\n",
    "\n",
    "arth"
   ]
  },
  {
   "cell_type": "code",
   "execution_count": 66,
   "id": "f7733d01",
   "metadata": {},
   "outputs": [
    {
     "data": {
      "image/png": "[encoded data removed]",
      "text/plain": [
       "<Figure size 1000x600 with 1 Axes>"
      ]
     },
     "metadata": {},
     "output_type": "display_data"
    },
    {
     "data": {
      "image/png": "[encoded data removed]",
      "text/plain": [
       "<Figure size 1000x600 with 1 Axes>"
      ]
     },
     "metadata": {},
     "output_type": "display_data"
    }
   ],
   "source": [
    "# Create a pie chart depicting count of people suffering from depression\n",
    "plt.figure(figsize=(10, 6))\n",
    "plt.pie(dep,labels=['No','Yes'],autopct='%1.1f%%',colors=['olivedrab', 'rosybrown'],explode=(0,0.1))\n",
    "plt.title('Count of people with depression')\n",
    "plt.show()\n",
    "\n",
    "\n",
    "# Create a pie chart depicting count of people suffering from depression\n",
    "plt.figure(figsize=(10, 6))\n",
    "plt.pie(arth,labels=['No','Yes'],autopct='%1.1f%%',colors=['olivedrab', 'rosybrown'],explode=(0,0.1))\n",
    "plt.title('Count of people with arthritis')\n",
    "plt.show()"
   ]
  },
  {
   "cell_type": "markdown",
   "id": "1231c24b",
   "metadata": {},
   "source": [
    "Arthritis is a more common disease as compared to depression. More people suffer from arthritis than depression"
   ]
  },
  {
   "cell_type": "markdown",
   "id": "15c44f1b",
   "metadata": {},
   "source": [
    "# Gender-wise bad food habits"
   ]
  },
  {
   "cell_type": "code",
   "execution_count": 67,
   "id": "4ae26e62",
   "metadata": {},
   "outputs": [
    {
     "data": {
      "text/plain": [
       "<Axes: xlabel='Smoking_History', ylabel='count'>"
      ]
     },
     "execution_count": 67,
     "metadata": {},
     "output_type": "execute_result"
    },
    {
     "data": {
      "image/png": "[encoded data removed]",
      "text/plain": [
       "<Figure size 640x480 with 1 Axes>"
      ]
     },
     "metadata": {},
     "output_type": "display_data"
    }
   ],
   "source": [
    "sns.countplot(x=df['Smoking_History'],hue= df['Sex'])"
   ]
  },
  {
   "cell_type": "code",
   "execution_count": 96,
   "id": "69d46e58",
   "metadata": {},
   "outputs": [
    {
     "data": {
      "text/plain": [
       "<Axes: xlabel='Sex', ylabel='Alcohol_Consumption'>"
      ]
     },
     "execution_count": 96,
     "metadata": {},
     "output_type": "execute_result"
    },
    {
     "data": {
      "image/png": "[encoded data removed]",
      "text/plain": [
       "<Figure size 640x480 with 1 Axes>"
      ]
     },
     "metadata": {},
     "output_type": "display_data"
    }
   ],
   "source": [
    "sns.barplot(y=df['Alcohol_Consumption'],x= df['Sex'])"
   ]
  },
  {
   "cell_type": "code",
   "execution_count": 98,
   "id": "625770db",
   "metadata": {},
   "outputs": [
    {
     "data": {
      "image/png": "[encoded data removed]",
      "text/plain": [
       "<Figure size 640x480 with 1 Axes>"
      ]
     },
     "metadata": {},
     "output_type": "display_data"
    }
   ],
   "source": [
    "plt.hist(df['Weight'],bins= 20,color='violet')\n",
    "plt.show()"
   ]
  },
  {
   "cell_type": "code",
   "execution_count": 84,
   "id": "ccdfbb89",
   "metadata": {},
   "outputs": [
    {
     "data": {
      "image/png": "[encoded data removed]",
      "text/plain": [
       "<Figure size 1000x600 with 1 Axes>"
      ]
     },
     "metadata": {},
     "output_type": "display_data"
    }
   ],
   "source": [
    "plt.figure(figsize=(10, 6))\n",
    "plt.hist(df['Green_Vegetables_Consumption'],bins= 20,color='purple')\n",
    "plt.title('Consumption of Green vegetables')\n",
    "plt.xlabel('Quantity')\n",
    "plt.ylabel('Number of Respondents')\n",
    "plt.xticks(rotation=0)\n",
    "plt.show()"
   ]
  },
  {
   "cell_type": "code",
   "execution_count": 71,
   "id": "491aaf79",
   "metadata": {},
   "outputs": [
    {
     "data": {
      "text/plain": [
       "<Axes: xlabel='count', ylabel='Smoking_History'>"
      ]
     },
     "execution_count": 71,
     "metadata": {},
     "output_type": "execute_result"
    },
    {
     "data": {
      "image/png": "[encoded data removed]",
      "text/plain": [
       "<Figure size 640x480 with 1 Axes>"
      ]
     },
     "metadata": {},
     "output_type": "display_data"
    }
   ],
   "source": [
    "sns.countplot(y=df['Smoking_History'],hue= df['General_Health'])"
   ]
  },
  {
   "cell_type": "code",
   "execution_count": 72,
   "id": "f4559afe",
   "metadata": {},
   "outputs": [
    {
     "data": {
      "text/plain": [
       "Within the past year       239368\n",
       "Within the past 2 years     37211\n",
       "Within the past 5 years     17441\n",
       "5 or more years ago         13421\n",
       "Never                        1407\n",
       "Name: Checkup, dtype: int64"
      ]
     },
     "execution_count": 72,
     "metadata": {},
     "output_type": "execute_result"
    }
   ],
   "source": [
    "df['Checkup'].value_counts()"
   ]
  },
  {
   "cell_type": "code",
   "execution_count": 73,
   "id": "fcd54bb0",
   "metadata": {},
   "outputs": [
    {
     "data": {
      "text/plain": [
       "<Axes: xlabel='Heart_Disease', ylabel='count'>"
      ]
     },
     "execution_count": 73,
     "metadata": {},
     "output_type": "execute_result"
    },
    {
     "data": {
      "image/png": "[encoded data removed]",
      "text/plain": [
       "<Figure size 640x480 with 1 Axes>"
      ]
     },
     "metadata": {},
     "output_type": "display_data"
    }
   ],
   "source": [
    "#Distribution of heart disease among people with diabetes\n",
    "sns.countplot(x=df['Heart_Disease'],hue= df['Diabetes'])"
   ]
  },
  {
   "cell_type": "code",
   "execution_count": 74,
   "id": "ab484103",
   "metadata": {},
   "outputs": [
    {
     "data": {
      "text/plain": [
       "<Axes: xlabel='Heart_Disease', ylabel='count'>"
      ]
     },
     "execution_count": 74,
     "metadata": {},
     "output_type": "execute_result"
    },
    {
     "data": {
      "image/png": "[encoded data removed]",
      "text/plain": [
       "<Figure size 640x480 with 1 Axes>"
      ]
     },
     "metadata": {},
     "output_type": "display_data"
    }
   ],
   "source": [
    "#Distribution of heart disease among different genders\n",
    "sns.countplot(x=df['Heart_Disease'],hue= df['Sex'])"
   ]
  },
  {
   "cell_type": "code",
   "execution_count": 75,
   "id": "908932f5",
   "metadata": {},
   "outputs": [
    {
     "data": {
      "text/plain": [
       "<Axes: xlabel='FriedPotato_Consumption', ylabel='Weight'>"
      ]
     },
     "execution_count": 75,
     "metadata": {},
     "output_type": "execute_result"
    },
    {
     "data": {
      "image/png": "[encoded data removed]",
      "text/plain": [
       "<Figure size 640x480 with 1 Axes>"
      ]
     },
     "metadata": {},
     "output_type": "display_data"
    }
   ],
   "source": [
    "sns.scatterplot(data= df, x=\"FriedPotato_Consumption\", y=\"Weight\",color='pink')"
   ]
  },
  {
   "cell_type": "code",
   "execution_count": 151,
   "id": "7dcc7562",
   "metadata": {},
   "outputs": [
    {
     "data": {
      "text/plain": [
       "<Axes: xlabel='Diabetes', ylabel='count'>"
      ]
     },
     "execution_count": 151,
     "metadata": {},
     "output_type": "execute_result"
    },
    {
     "data": {
      "image/png": "[encoded data removed]",
      "text/plain": [
       "<Figure size 640x480 with 1 Axes>"
      ]
     },
     "metadata": {},
     "output_type": "display_data"
    }
   ],
   "source": [
    "sns.countplot(x=df['Diabetes'],hue= df['Heart_Disease'])"
   ]
  },
  {
   "cell_type": "code",
   "execution_count": null,
   "id": "7851a8fc",
   "metadata": {},
   "outputs": [],
   "source": [
    "plt.figure(figsize=(10, 6))\n",
    "df[''].plot(kind='bar', color=['skyblue', 'pink', 'purple'])\n",
    "plt.title('Survey Responses by Gender')\n",
    "plt.xlabel('Gender')\n",
    "plt.ylabel('Number of Responses')\n",
    "plt.show()"
   ]
  },
  {
   "cell_type": "code",
   "execution_count": 133,
   "id": "641d9296",
   "metadata": {},
   "outputs": [
    {
     "data": {
      "text/plain": [
       "<Axes: xlabel='General_Health', ylabel='Fruit_Consumption'>"
      ]
     },
     "execution_count": 133,
     "metadata": {},
     "output_type": "execute_result"
    },
    {
     "data": {
      "image/png": "[encoded data removed]",
      "text/plain": [
       "<Figure size 640x480 with 1 Axes>"
      ]
     },
     "metadata": {},
     "output_type": "display_data"
    }
   ],
   "source": [
    "sns.barplot(data=df,x=df['General_Health'],y=df['Fruit_Consumption'])"
   ]
  },
  {
   "cell_type": "code",
   "execution_count": 76,
   "id": "7e4e6433",
   "metadata": {},
   "outputs": [
    {
     "data": {
      "text/plain": [
       "<Axes: xlabel='Weight', ylabel='BMI'>"
      ]
     },
     "execution_count": 76,
     "metadata": {},
     "output_type": "execute_result"
    },
    {
     "data": {
      "image/png": "[encoded data removed]",
      "text/plain": [
       "<Figure size 640x480 with 1 Axes>"
      ]
     },
     "metadata": {},
     "output_type": "display_data"
    }
   ],
   "source": [
    "sns.scatterplot(data= df, x=\"Weight\", y=\"BMI\",color='orange')"
   ]
  },
  {
   "cell_type": "code",
   "execution_count": 78,
   "id": "d0775759",
   "metadata": {},
   "outputs": [
    {
     "data": {
      "text/html": [
       "<div>\n",
       "<style scoped>\n",
       "    .dataframe tbody tr th:only-of-type {\n",
       "        vertical-align: middle;\n",
       "    }\n",
       "\n",
       "    .dataframe tbody tr th {\n",
       "        vertical-align: top;\n",
       "    }\n",
       "\n",
       "    .dataframe thead th {\n",
       "        text-align: right;\n",
       "    }\n",
       "</style>\n",
       "<table border=\"1\" class=\"dataframe\">\n",
       "  <thead>\n",
       "    <tr style=\"text-align: right;\">\n",
       "      <th>Heart_Disease</th>\n",
       "      <th>No</th>\n",
       "      <th>Yes</th>\n",
       "    </tr>\n",
       "    <tr>\n",
       "      <th>Exercise</th>\n",
       "      <th></th>\n",
       "      <th></th>\n",
       "    </tr>\n",
       "  </thead>\n",
       "  <tbody>\n",
       "    <tr>\n",
       "      <th>No</th>\n",
       "      <td>60468</td>\n",
       "      <td>9004</td>\n",
       "    </tr>\n",
       "    <tr>\n",
       "      <th>Yes</th>\n",
       "      <td>223409</td>\n",
       "      <td>15967</td>\n",
       "    </tr>\n",
       "  </tbody>\n",
       "</table>\n",
       "</div>"
      ],
      "text/plain": [
       "Heart_Disease      No    Yes\n",
       "Exercise                    \n",
       "No              60468   9004\n",
       "Yes            223409  15967"
      ]
     },
     "execution_count": 78,
     "metadata": {},
     "output_type": "execute_result"
    }
   ],
   "source": [
    "exercise_heart= pd.crosstab(df['Exercise'],df['Heart_Disease'])\n",
    "exercise_heart"
   ]
  },
  {
   "cell_type": "code",
   "execution_count": 82,
   "id": "54f16577",
   "metadata": {},
   "outputs": [
    {
     "data": {
      "text/plain": [
       "<Axes: xlabel='Exercise'>"
      ]
     },
     "execution_count": 82,
     "metadata": {},
     "output_type": "execute_result"
    },
    {
     "data": {
      "image/png": "[encoded data removed]",
      "text/plain": [
       "<Figure size 640x480 with 1 Axes>"
      ]
     },
     "metadata": {},
     "output_type": "display_data"
    }
   ],
   "source": [
    "exercise_heart.plot(kind='bar',stacked=True,color=['cyan','red'])"
   ]
  },
  {
   "cell_type": "code",
   "execution_count": null,
   "id": "ef6e3a26",
   "metadata": {},
   "outputs": [],
   "source": []
  }
 ],
 "metadata": {
  "kernelspec": {
   "display_name": "Python 3 (ipykernel)",
   "language": "python",
   "name": "python3"
  },
  "language_info": {
   "codemirror_mode": {
    "name": "ipython",
    "version": 3
   },
   "file_extension": ".py",
   "mimetype": "text/x-python",
   "name": "python",
   "nbconvert_exporter": "python",
   "pygments_lexer": "ipython3",
   "version": "3.10.9"
  }
 },
 "nbformat": 4,
 "nbformat_minor": 5
}
